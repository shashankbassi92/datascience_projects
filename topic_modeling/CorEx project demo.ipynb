{
 "cells": [
  {
   "cell_type": "code",
   "execution_count": 1,
   "id": "bfb3875f",
   "metadata": {},
   "outputs": [],
   "source": [
    "import pandas as pd\n",
    "import spacy\n",
    "from sentence_transformers import SentenceTransformer"
   ]
  },
  {
   "cell_type": "code",
   "execution_count": 2,
   "id": "69c52a0d",
   "metadata": {},
   "outputs": [],
   "source": [
    "# https://people.rit.edu/fa3019/technical/aircraft.html\n",
    "data = pd.read_csv(\"Aircraft_Annotation_DataFile.csv\")"
   ]
  },
  {
   "cell_type": "code",
   "execution_count": 3,
   "id": "0cc2d390",
   "metadata": {},
   "outputs": [
    {
     "data": {
      "text/plain": [
       "0                     ENGINE IDLE OVERRIDE KILLED ENGINE.\n",
       "1                     ENGINE IDLE OVERRIDE KILLED ENGINE.\n",
       "2                     ENGINE IDLE OVERRIDE KILLED ENGINE.\n",
       "3       HAD ENGINE CHOKE & BRIEFLY LOSE POWER ON DEPAR...\n",
       "4            #2 & 4 CYL ROCKER COVER GASKETS ARE LEAKING.\n",
       "                              ...                        \n",
       "6164                                   #2 INTAKE LEAKING.\n",
       "6165                       L/H FWD ENGINE BAFFLE CRACKED.\n",
       "6166    DURING RUN UP, #2 CYL WAS COLD & ENGINE SHOCK ...\n",
       "6167    DURING RUN UP, #2 CYL WAS COLD & ENGINE SHOCK ...\n",
       "6168    SAFETY DEPARTMENT WAS NOTIFIED OF POSSIBLE ENG...\n",
       "Name: PROBLEM, Length: 6169, dtype: object"
      ]
     },
     "execution_count": 3,
     "metadata": {},
     "output_type": "execute_result"
    }
   ],
   "source": [
    "data['PROBLEM']"
   ]
  },
  {
   "cell_type": "code",
   "execution_count": 4,
   "id": "931edb2e",
   "metadata": {},
   "outputs": [],
   "source": [
    "nlp = spacy.load('en_core_web_sm')\n",
    "def preprocess_text(sent):\n",
    "    doc = nlp(sent)\n",
    "    tokens = [token.text for token in doc]\n",
    "    filtered = [token.text for token in doc if token.is_stop == False]\n",
    "    return \" \".join(filtered)\n",
    "data['PREPROCESS_PROBLEM'] = data['PROBLEM'].apply(preprocess_text)"
   ]
  },
  {
   "cell_type": "code",
   "execution_count": 5,
   "id": "53619960",
   "metadata": {},
   "outputs": [
    {
     "data": {
      "text/html": [
       "<div>\n",
       "<style scoped>\n",
       "    .dataframe tbody tr th:only-of-type {\n",
       "        vertical-align: middle;\n",
       "    }\n",
       "\n",
       "    .dataframe tbody tr th {\n",
       "        vertical-align: top;\n",
       "    }\n",
       "\n",
       "    .dataframe thead th {\n",
       "        text-align: right;\n",
       "    }\n",
       "</style>\n",
       "<table border=\"1\" class=\"dataframe\">\n",
       "  <thead>\n",
       "    <tr style=\"text-align: right;\">\n",
       "      <th></th>\n",
       "      <th>IDENT</th>\n",
       "      <th>PROBLEM</th>\n",
       "      <th>ACTION</th>\n",
       "      <th>PREPROCESS_PROBLEM</th>\n",
       "    </tr>\n",
       "  </thead>\n",
       "  <tbody>\n",
       "    <tr>\n",
       "      <th>0</th>\n",
       "      <td>100001</td>\n",
       "      <td>ENGINE IDLE OVERRIDE KILLED ENGINE.</td>\n",
       "      <td>TRIED TO ADJUST IDLE SEVERAL TIMES, WOULDN'T A...</td>\n",
       "      <td>ENGINE IDLE OVERRIDE KILLED ENGINE .</td>\n",
       "    </tr>\n",
       "    <tr>\n",
       "      <th>1</th>\n",
       "      <td>100002</td>\n",
       "      <td>ENGINE IDLE OVERRIDE KILLED ENGINE.</td>\n",
       "      <td>REMOVED &amp; REPLACED FUEL SERVO</td>\n",
       "      <td>ENGINE IDLE OVERRIDE KILLED ENGINE .</td>\n",
       "    </tr>\n",
       "    <tr>\n",
       "      <th>2</th>\n",
       "      <td>100003</td>\n",
       "      <td>ENGINE IDLE OVERRIDE KILLED ENGINE.</td>\n",
       "      <td>A/C WAS RUN UP, SET IDLE SPEED, MIXTURE OK, NO...</td>\n",
       "      <td>ENGINE IDLE OVERRIDE KILLED ENGINE .</td>\n",
       "    </tr>\n",
       "    <tr>\n",
       "      <th>3</th>\n",
       "      <td>100004</td>\n",
       "      <td>HAD ENGINE CHOKE &amp; BRIEFLY LOSE POWER ON DEPAR...</td>\n",
       "      <td>PERFORMED ENGINE RUN UP, FOUND CYL 2 LOWER PLU...</td>\n",
       "      <td>ENGINE CHOKE &amp; BRIEFLY LOSE POWER DEPARTURE . THR</td>\n",
       "    </tr>\n",
       "    <tr>\n",
       "      <th>4</th>\n",
       "      <td>100005</td>\n",
       "      <td>#2 &amp; 4 CYL ROCKER COVER GASKETS ARE LEAKING.</td>\n",
       "      <td>REMOVED &amp; REPLACED GASKETS.</td>\n",
       "      <td># 2 &amp; 4 CYL ROCKER COVER GASKETS LEAKING .</td>\n",
       "    </tr>\n",
       "    <tr>\n",
       "      <th>...</th>\n",
       "      <td>...</td>\n",
       "      <td>...</td>\n",
       "      <td>...</td>\n",
       "      <td>...</td>\n",
       "    </tr>\n",
       "    <tr>\n",
       "      <th>6164</th>\n",
       "      <td>106165</td>\n",
       "      <td>#2 INTAKE LEAKING.</td>\n",
       "      <td>REMOVED &amp; REPLACED INTAKE GASKET.</td>\n",
       "      <td># 2 INTAKE LEAKING .</td>\n",
       "    </tr>\n",
       "    <tr>\n",
       "      <th>6165</th>\n",
       "      <td>106166</td>\n",
       "      <td>L/H FWD ENGINE BAFFLE CRACKED.</td>\n",
       "      <td>STOP DRILLED CRACK.</td>\n",
       "      <td>L / H FWD ENGINE BAFFLE CRACKED .</td>\n",
       "    </tr>\n",
       "    <tr>\n",
       "      <th>6166</th>\n",
       "      <td>106167</td>\n",
       "      <td>DURING RUN UP, #2 CYL WAS COLD &amp; ENGINE SHOCK ...</td>\n",
       "      <td>OPS &amp; LEAK CK GOOD.</td>\n",
       "      <td>RUN , # 2 CYL COLD &amp; ENGINE SHOCK VIOLENTLY ( ENG</td>\n",
       "    </tr>\n",
       "    <tr>\n",
       "      <th>6167</th>\n",
       "      <td>106168</td>\n",
       "      <td>DURING RUN UP, #2 CYL WAS COLD &amp; ENGINE SHOCK ...</td>\n",
       "      <td>FOUND #2 CYL EXHAUST VALVE TO BE STUCK. REAMED...</td>\n",
       "      <td>RUN , # 2 CYL COLD &amp; ENGINE SHOCK VIOLENTLY ( ENG</td>\n",
       "    </tr>\n",
       "    <tr>\n",
       "      <th>6168</th>\n",
       "      <td>106169</td>\n",
       "      <td>SAFETY DEPARTMENT WAS NOTIFIED OF POSSIBLE ENG...</td>\n",
       "      <td>REVIEWED FLIGHT DATA, VERIFIED MAX RPM INSP</td>\n",
       "      <td>SAFETY DEPARTMENT NOTIFIED POSSIBLE ENGINE OVE...</td>\n",
       "    </tr>\n",
       "  </tbody>\n",
       "</table>\n",
       "<p>6169 rows × 4 columns</p>\n",
       "</div>"
      ],
      "text/plain": [
       "       IDENT                                            PROBLEM  \\\n",
       "0     100001                ENGINE IDLE OVERRIDE KILLED ENGINE.   \n",
       "1     100002                ENGINE IDLE OVERRIDE KILLED ENGINE.   \n",
       "2     100003                ENGINE IDLE OVERRIDE KILLED ENGINE.   \n",
       "3     100004  HAD ENGINE CHOKE & BRIEFLY LOSE POWER ON DEPAR...   \n",
       "4     100005       #2 & 4 CYL ROCKER COVER GASKETS ARE LEAKING.   \n",
       "...      ...                                                ...   \n",
       "6164  106165                                 #2 INTAKE LEAKING.   \n",
       "6165  106166                     L/H FWD ENGINE BAFFLE CRACKED.   \n",
       "6166  106167  DURING RUN UP, #2 CYL WAS COLD & ENGINE SHOCK ...   \n",
       "6167  106168  DURING RUN UP, #2 CYL WAS COLD & ENGINE SHOCK ...   \n",
       "6168  106169  SAFETY DEPARTMENT WAS NOTIFIED OF POSSIBLE ENG...   \n",
       "\n",
       "                                                 ACTION  \\\n",
       "0     TRIED TO ADJUST IDLE SEVERAL TIMES, WOULDN'T A...   \n",
       "1                         REMOVED & REPLACED FUEL SERVO   \n",
       "2     A/C WAS RUN UP, SET IDLE SPEED, MIXTURE OK, NO...   \n",
       "3     PERFORMED ENGINE RUN UP, FOUND CYL 2 LOWER PLU...   \n",
       "4                           REMOVED & REPLACED GASKETS.   \n",
       "...                                                 ...   \n",
       "6164                  REMOVED & REPLACED INTAKE GASKET.   \n",
       "6165                                STOP DRILLED CRACK.   \n",
       "6166                                OPS & LEAK CK GOOD.   \n",
       "6167  FOUND #2 CYL EXHAUST VALVE TO BE STUCK. REAMED...   \n",
       "6168        REVIEWED FLIGHT DATA, VERIFIED MAX RPM INSP   \n",
       "\n",
       "                                     PREPROCESS_PROBLEM  \n",
       "0                  ENGINE IDLE OVERRIDE KILLED ENGINE .  \n",
       "1                  ENGINE IDLE OVERRIDE KILLED ENGINE .  \n",
       "2                  ENGINE IDLE OVERRIDE KILLED ENGINE .  \n",
       "3     ENGINE CHOKE & BRIEFLY LOSE POWER DEPARTURE . THR  \n",
       "4            # 2 & 4 CYL ROCKER COVER GASKETS LEAKING .  \n",
       "...                                                 ...  \n",
       "6164                               # 2 INTAKE LEAKING .  \n",
       "6165                  L / H FWD ENGINE BAFFLE CRACKED .  \n",
       "6166  RUN , # 2 CYL COLD & ENGINE SHOCK VIOLENTLY ( ENG  \n",
       "6167  RUN , # 2 CYL COLD & ENGINE SHOCK VIOLENTLY ( ENG  \n",
       "6168  SAFETY DEPARTMENT NOTIFIED POSSIBLE ENGINE OVE...  \n",
       "\n",
       "[6169 rows x 4 columns]"
      ]
     },
     "execution_count": 5,
     "metadata": {},
     "output_type": "execute_result"
    }
   ],
   "source": [
    "data"
   ]
  },
  {
   "cell_type": "markdown",
   "id": "d953c17c",
   "metadata": {},
   "source": [
    "# LDA"
   ]
  },
  {
   "cell_type": "code",
   "execution_count": 6,
   "id": "43f754e3",
   "metadata": {},
   "outputs": [],
   "source": [
    "import pandas as pd\n",
    "\n",
    "# sklearn - count vectorizers\n",
    "from sklearn.feature_extraction.text import CountVectorizer\n",
    "\n",
    "# LDA\n",
    "from sklearn.decomposition import LatentDirichletAllocation\n",
    "\n",
    "# Numpy\n",
    "import numpy as np\n",
    "\n",
    "# matplotlib\n",
    "import matplotlib.pyplot as plt\n",
    "\n",
    "%matplotlib inline\n"
   ]
  },
  {
   "cell_type": "code",
   "execution_count": 7,
   "id": "a5280a0c",
   "metadata": {},
   "outputs": [],
   "source": [
    "tf_vectorizer = CountVectorizer(decode_error='ignore', max_df = 0.95,min_df=2,stop_words='english') \n",
    "tf = tf_vectorizer.fit_transform(data['PREPROCESS_PROBLEM'])"
   ]
  },
  {
   "cell_type": "code",
   "execution_count": 8,
   "id": "d0db1d68",
   "metadata": {},
   "outputs": [],
   "source": [
    "lda = LatentDirichletAllocation(n_components = 5, max_iter=5, learning_method='online',learning_offset=50., random_state=0)\n",
    "\n",
    "lda.fit(tf)\n",
    "\n",
    "# making LDA TOP MATRIX USING CORPUS TF\n",
    "lda_topic_modelling = lda.fit_transform(tf)"
   ]
  },
  {
   "cell_type": "code",
   "execution_count": 9,
   "id": "2d5c518e",
   "metadata": {},
   "outputs": [],
   "source": [
    "def get_top_n_words(n, keys, document_term_matrix, cv):\n",
    "    top_word_indices = []\n",
    "    n_topics=5\n",
    "\n",
    "    for topic in range(n_topics): # go from 0 to 24\n",
    "        temp_vector_sum = 0\n",
    "        \n",
    "        for i in range(len(keys)): # go from 0 to 20971\n",
    "            if keys[i] == topic:\n",
    "                temp_vector_sum += document_term_matrix[i]\n",
    "        \n",
    "        \n",
    "        temp_vector_sum = temp_vector_sum.toarray()\n",
    "\n",
    "\n",
    "        top_n_word_indices = np.flip(np.argsort(temp_vector_sum)[0][-n:],0)\n",
    "        top_word_indices.append(top_n_word_indices)  \n",
    "\n",
    "\n",
    "    top_words = []\n",
    "    for topic in top_word_indices:\n",
    "        topic_words = []\n",
    "\n",
    "        for index in topic:\n",
    "            temp_word_vector = np.zeros((1,document_term_matrix.shape[1]))\n",
    "            temp_word_vector[:,index] = 1\n",
    "            # print(temp_word_vector)\n",
    "            \n",
    "            the_word = cv.inverse_transform(temp_word_vector)[0][0]\n",
    "            topic_words.append(the_word.encode('ascii').decode('utf-8'))\n",
    "        top_words.append(\" \".join(topic_words))         \n",
    "    return top_words\n",
    "\n",
    "def get_keys(topic_matrix):\n",
    "  # print(topic_matrix.argmax(axis = 1)) # axis = 1, will return maximum index in that array \n",
    "    keys = topic_matrix.argmax(axis = 1).tolist()\n",
    "    print(\"length of the keys is: \",len(keys))\n",
    "    return keys"
   ]
  },
  {
   "cell_type": "code",
   "execution_count": 10,
   "id": "992ef466",
   "metadata": {},
   "outputs": [
    {
     "name": "stdout",
     "output_type": "stream",
     "text": [
      "length of the keys is:  6169\n"
     ]
    }
   ],
   "source": [
    "n_top_words = 25\n",
    "lda_keys = get_keys(lda_topic_modelling)\n",
    "top_n_words = get_top_n_words(n_top_words, lda_keys, tf, tf_vectorizer)"
   ]
  },
  {
   "cell_type": "code",
   "execution_count": 11,
   "id": "e6ce167f",
   "metadata": {},
   "outputs": [
    {
     "name": "stdout",
     "output_type": "stream",
     "text": [
      "Topic 1: \n",
      " baffle engine broken needs aft cyl oil rod cracked bracket tie rivets sheared removed replaced rivet wire repair eng spring support loose facilitate changed dirty\n",
      "\n",
      "Topic 2: \n",
      " baffle engine cyl loose cracked seal eng oil missing fwd screw worn plug aft plugs cooler rear crack baffling intake bolt cylinder needs tube line\n",
      "\n",
      "Topic 3: \n",
      " leaking rocker cover engine gaskets gasket cyl intake intakes covers eng box loose screws leaks missing screw leak cylinder torn lines shaft oil valve seeping\n",
      "\n",
      "Topic 4: \n",
      " leaking intake gasket cyl eng compression tube low gaskets cylinder engine induction 80 exhaust leaks push rod valve sump loose hose seal crankshaft clamps oil\n",
      "\n",
      "Topic 5: \n",
      " engine rpm rough start run running cyl flight idle ran power eng prop mag vibration started failed overspeed throttle valve requires high ck required assist\n",
      "\n"
     ]
    }
   ],
   "source": [
    "for i in range(len(top_n_words)):\n",
    "    print(\"Topic {}: \\n\".format(i+1), top_n_words[i]+\"\\n\")"
   ]
  },
  {
   "cell_type": "markdown",
   "id": "de1fcdf6",
   "metadata": {},
   "source": [
    "# Corex"
   ]
  },
  {
   "cell_type": "code",
   "execution_count": 12,
   "id": "2d1e9dd2",
   "metadata": {},
   "outputs": [],
   "source": [
    "from corextopic import corextopic as ct"
   ]
  },
  {
   "cell_type": "code",
   "execution_count": 13,
   "id": "ce5ef3f4",
   "metadata": {},
   "outputs": [
    {
     "data": {
      "text/plain": [
       "<corextopic.corextopic.Corex at 0x7f99b07e1b40>"
      ]
     },
     "execution_count": 13,
     "metadata": {},
     "output_type": "execute_result"
    }
   ],
   "source": [
    "topic_model = ct.Corex(n_hidden=10)  # Define the number of latent (hidden) topics to use.\n",
    "topic_model.fit(tf, words=tf_vectorizer.get_feature_names_out())"
   ]
  },
  {
   "cell_type": "code",
   "execution_count": 14,
   "id": "2fb6fb1a",
   "metadata": {},
   "outputs": [
    {
     "name": "stdout",
     "output_type": "stream",
     "text": [
      "1: leaking, rocker, intake, gasket, cover, gaskets, intakes, covers, start, prop\n",
      "2: baffle, cracked, missing, aft, fwd, seal, screw, worn, plug, loose\n",
      "3: rpm, rough, run, running, idle, ran, power, started, repair, overspeed\n",
      "4: oil, needs, cooler, line, removed, return, hose, clamps, drain, leak\n",
      "5: compression, low, 80, push, cylinder, rod, 40, psi, 20, 35\n",
      "6: valve, exhaust, failed, flight, vibration, required, change, stuck, strike, felt\n",
      "7: pilot, adel, clamp, noted, pump, requested, vacuum, reported, overhaul, plate\n",
      "8: eng, engine, tube, induction, damage, appears, rods, tac, marks, blocked\n",
      "9: box, screws, air, filter, cowl, heat, inlet, carb, need, shock\n",
      "10: cyl, connection, dead, pipe, extending, nutplate, staple, tension, connector, brackets\n"
     ]
    }
   ],
   "source": [
    "topics = topic_model.get_topics()\n",
    "for topic_n,topic in enumerate(topics):\n",
    "    # w: word, mi: mutual information, s: sign\n",
    "    topic = [(w,mi,s) for w,mi,s in topic]\n",
    "    # Unpack the info about the topic\n",
    "    words,mis,signs = zip(*topic)    \n",
    "    # Print topic\n",
    "    topic_str = str(topic_n+1)+': '+', '.join(words)\n",
    "    print(topic_str)"
   ]
  },
  {
   "cell_type": "code",
   "execution_count": 15,
   "id": "da3cdf06",
   "metadata": {},
   "outputs": [],
   "source": [
    "nlp = spacy.load('en_core_web_sm')\n",
    "\n",
    "def preprocess_text2(sent):\n",
    "    doc = nlp(sent)\n",
    "    filtered = [token.lemma_ for token in doc if (token.pos_ in (\"NOUN\", \"VERB\")) & (token.is_stop == False)]\n",
    "    return \" \".join(filtered)"
   ]
  },
  {
   "cell_type": "code",
   "execution_count": 16,
   "id": "b97a8079",
   "metadata": {
    "scrolled": true
   },
   "outputs": [],
   "source": [
    "data['PREPROCESS_PROBLEM2'] = data['PROBLEM'].apply(lambda x: preprocess_text2(x))"
   ]
  },
  {
   "cell_type": "code",
   "execution_count": 17,
   "id": "a8691474",
   "metadata": {},
   "outputs": [],
   "source": [
    "tf_vectorizer = CountVectorizer(decode_error='ignore', max_df = 0.95,min_df=2,stop_words='english') # applying count vectorizer\n",
    "# print(tf_vectorizer)\n",
    "tf = tf_vectorizer.fit_transform(data['PREPROCESS_PROBLEM2'])"
   ]
  },
  {
   "cell_type": "markdown",
   "id": "d1716a99",
   "metadata": {},
   "source": [
    "## Unsupervised"
   ]
  },
  {
   "cell_type": "code",
   "execution_count": 18,
   "id": "07ce130f",
   "metadata": {},
   "outputs": [
    {
     "data": {
      "text/plain": [
       "<corextopic.corextopic.Corex at 0x7f99defe5bd0>"
      ]
     },
     "execution_count": 18,
     "metadata": {},
     "output_type": "execute_result"
    }
   ],
   "source": [
    "topic_model = ct.Corex(n_hidden=10)  # Define the number of latent (hidden) topics to use.\n",
    "topic_model.fit(tf, words=tf_vectorizer.get_feature_names_out())"
   ]
  },
  {
   "cell_type": "code",
   "execution_count": 19,
   "id": "6e0a2b11",
   "metadata": {},
   "outputs": [
    {
     "name": "stdout",
     "output_type": "stream",
     "text": [
      "1: engine, rpm, run, leak, ran, rough, requires, roughness, flight, landing\n",
      "2: leaking, gasket, intake, tube, aft, fail, rear, intakes, come, note\n",
      "3: need, push, needs, replaced, seal, cowl, change, cleaned, clamp, appear\n",
      "4: crack, baffling, fuel, oil, line, connect, cooler, support, request, cool\n",
      "5: cylinder, miss, valve, exhaust, rivets, head, area, cyl, screws, clearance\n",
      "6: cracked, bracket, chafing, baffle, place, wire\n",
      "7: start, begin, hit, standby, rich, lace, anchor, lines\n",
      "8: compression, rocker, low, zero, shaft, starter, play\n",
      "9: vibration, hardware, test, crankshaft, evidence, running, hold, portion\n",
      "10: return, teeth, ring, plug, safety\n"
     ]
    }
   ],
   "source": [
    "topics = topic_model.get_topics()\n",
    "for topic_n,topic in enumerate(topics):\n",
    "    # w: word, mi: mutual information, s: sign\n",
    "    topic = [(w,mi,s) for w,mi,s in topic]\n",
    "    # Unpack the info about the topic\n",
    "    words,mis,signs = zip(*topic)    \n",
    "    # Print topic\n",
    "    topic_str = str(topic_n+1)+': '+', '.join(words)\n",
    "    print(topic_str)"
   ]
  },
  {
   "cell_type": "code",
   "execution_count": 123,
   "id": "69999c2d",
   "metadata": {},
   "outputs": [
    {
     "data": {
      "image/png": "[encoded data removed]",
      "text/plain": [
       "<Figure size 1000x500 with 1 Axes>"
      ]
     },
     "metadata": {},
     "output_type": "display_data"
    }
   ],
   "source": [
    "plt.figure(figsize=(10,5))\n",
    "plt.bar(range(topic_model.tcs.shape[0]), topic_model.tcs, color='#4e79a7', width=0.5)\n",
    "plt.xlabel('Topic', fontsize=16)\n",
    "plt.ylabel('Total Correlation (nats)', fontsize=16)\n",
    "plt.title(\"Total Correlation for each topic\")\n",
    "_= plt.xticks(range(10), range(1,11))"
   ]
  },
  {
   "cell_type": "code",
   "execution_count": 171,
   "id": "51017958",
   "metadata": {},
   "outputs": [],
   "source": [
    "tc_list = []\n",
    "for i in range(1, 15):\n",
    "    topic_model = ct.Corex(n_hidden=i)  # Define the number of latent (hidden) topics to use.\n",
    "    topic_model.fit(tf, words=tf_vectorizer.get_feature_names_out())\n",
    "    tc_list.append(topic_model.tc)"
   ]
  },
  {
   "cell_type": "code",
   "execution_count": 174,
   "id": "9637fb70",
   "metadata": {},
   "outputs": [
    {
     "data": {
      "image/png": "[encoded data removed]",
      "text/plain": [
       "<Figure size 1000x500 with 1 Axes>"
      ]
     },
     "metadata": {},
     "output_type": "display_data"
    }
   ],
   "source": [
    "plt.figure(figsize=(10,5))\n",
    "plt.scatter(range(1,15), tc_list)\n",
    "plt.xlabel('Number of Topics', fontsize=16)\n",
    "plt.ylabel('Total Correlation (nats)', fontsize=16)\n",
    "plt.title(\"Total Correlation of model with num of topics\")\n",
    "_= plt.xticks(range(1,15), range(1,15))"
   ]
  },
  {
   "cell_type": "markdown",
   "id": "b3040919",
   "metadata": {},
   "source": [
    "## Supervision"
   ]
  },
  {
   "cell_type": "code",
   "execution_count": 173,
   "id": "6fbb085b",
   "metadata": {},
   "outputs": [
    {
     "data": {
      "text/plain": [
       "<corextopic.corextopic.Corex at 0x7fa97ab83be0>"
      ]
     },
     "execution_count": 173,
     "metadata": {},
     "output_type": "execute_result"
    }
   ],
   "source": [
    "anchors=[['engine', 'run'], ['gasket', 'leak'], \n",
    "         ['replaced', 'seal'],  ['crack', 'cylinder', 'exhaust'], ['sump', 'leak']]\n",
    "topic_model = ct.Corex(n_hidden=7)  # Define the number of latent (hidden) topics to use.\n",
    "topic_model.fit(tf, words=tf_vectorizer.get_feature_names_out(), anchors=anchors)\n",
    "\n"
   ]
  },
  {
   "cell_type": "code",
   "execution_count": 137,
   "id": "847473cc",
   "metadata": {},
   "outputs": [
    {
     "name": "stdout",
     "output_type": "stream",
     "text": [
      "1: engine, rpm, run, start, ran, rough, roughness, requires, perform, flight\n",
      "2: leaking, gasket, intake, tube, aft, fail, rear, intakes, miss, leak\n",
      "3: seal, need, needs, replaced, push, cowl, change, fuel, cleaned, appear\n",
      "4: cracked, baffling, cylinder, crack, cyl, connect, compression, pressure, cool, psi\n",
      "5: leak, cover, rocker, point, attachment, sump, evidence, puddle\n",
      "6: line, return, reach, added, repositioned, washer, standby, possible, starter, anchor\n",
      "7: oil, support, rivets, head, area, stop, breather, hit, flange, clearance\n"
     ]
    }
   ],
   "source": [
    "topics = topic_model.get_topics()\n",
    "for topic_n,topic in enumerate(topics):\n",
    "    # w: word, mi: mutual information, s: sign\n",
    "    topic = [(w,mi,s) for w,mi,s in topic]\n",
    "    # Unpack the info about the topic\n",
    "    words,mis,signs = zip(*topic)    \n",
    "    # Print topic\n",
    "    topic_str = str(topic_n+1)+': '+', '.join(words)\n",
    "    print(topic_str)"
   ]
  },
  {
   "cell_type": "code",
   "execution_count": null,
   "id": "46a42785",
   "metadata": {},
   "outputs": [],
   "source": []
  },
  {
   "cell_type": "code",
   "execution_count": 138,
   "id": "0b83e6fe",
   "metadata": {},
   "outputs": [
    {
     "data": {
      "image/png": "[encoded data removed]",
      "text/plain": [
       "<Figure size 1000x500 with 1 Axes>"
      ]
     },
     "metadata": {},
     "output_type": "display_data"
    }
   ],
   "source": [
    "plt.figure(figsize=(10,5))\n",
    "plt.bar(range(topic_model.tcs.shape[0]), topic_model.tcs, color='#4e79a7', width=0.5)\n",
    "plt.xlabel('Topic', fontsize=16)\n",
    "plt.ylabel('Total Correlation (nats)', fontsize=16)\n",
    "plt.title(\"Total Correlation for each topic\")\n",
    "_= plt.xticks(ticks=range(7), labels=range(1, 8))"
   ]
  },
  {
   "cell_type": "code",
   "execution_count": null,
   "id": "54886872",
   "metadata": {},
   "outputs": [],
   "source": []
  }
 ],
 "metadata": {
  "kernelspec": {
   "display_name": "Python 3 (ipykernel)",
   "language": "python",
   "name": "python3"
  },
  "language_info": {
   "codemirror_mode": {
    "name": "ipython",
    "version": 3
   },
   "file_extension": ".py",
   "mimetype": "text/x-python",
   "name": "python",
   "nbconvert_exporter": "python",
   "pygments_lexer": "ipython3",
   "version": "3.10.9"
  }
 },
 "nbformat": 4,
 "nbformat_minor": 5
}
