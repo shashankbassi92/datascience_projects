{
 "cells": [
  {
   "cell_type": "markdown",
   "id": "364b1c36",
   "metadata": {},
   "source": [
    "# Imports"
   ]
  },
  {
   "cell_type": "code",
   "execution_count": 186,
   "id": "297c3da0",
   "metadata": {},
   "outputs": [],
   "source": [
    "import matplotlib.pyplot as plt\n",
    "import pandas as pd\n",
    "from sklearn.model_selection import train_test_split\n",
    "import numpy as np\n",
    "from sklearn.multioutput import MultiOutputClassifier\n",
    "from sklearn.ensemble import GradientBoostingClassifier, RandomForestClassifier\n",
    "from sklearn.naive_bayes import GaussianNB\n",
    "from sklearn.linear_model import LogisticRegression\n",
    "from sklearn.model_selection import StratifiedKFold, GridSearchCV\n",
    "from sklearn.metrics import f1_score, precision_score, recall_score, roc_auc_score\n",
    "from sklearn.preprocessing import StandardScaler\n",
    "import xgboost as xgb\n",
    "import seaborn as sns\n",
    "%matplotlib inline"
   ]
  },
  {
   "cell_type": "markdown",
   "id": "443b1f00",
   "metadata": {},
   "source": [
    "# Data"
   ]
  },
  {
   "cell_type": "code",
   "execution_count": 2,
   "id": "27f24899",
   "metadata": {},
   "outputs": [],
   "source": [
    "data = pd.read_csv(\"../Data/Data.csv\")"
   ]
  },
  {
   "cell_type": "code",
   "execution_count": 3,
   "id": "30b1f2d4",
   "metadata": {},
   "outputs": [
    {
     "data": {
      "text/plain": [
       "(944468, 8)"
      ]
     },
     "execution_count": 3,
     "metadata": {},
     "output_type": "execute_result"
    }
   ],
   "source": [
    "data.shape"
   ]
  },
  {
   "cell_type": "code",
   "execution_count": 4,
   "id": "13ad278c",
   "metadata": {},
   "outputs": [
    {
     "data": {
      "text/html": [
       "<div>\n",
       "<style scoped>\n",
       "    .dataframe tbody tr th:only-of-type {\n",
       "        vertical-align: middle;\n",
       "    }\n",
       "\n",
       "    .dataframe tbody tr th {\n",
       "        vertical-align: top;\n",
       "    }\n",
       "\n",
       "    .dataframe thead th {\n",
       "        text-align: right;\n",
       "    }\n",
       "</style>\n",
       "<table border=\"1\" class=\"dataframe\">\n",
       "  <thead>\n",
       "    <tr style=\"text-align: right;\">\n",
       "      <th></th>\n",
       "      <th>Invoice</th>\n",
       "      <th>StockCode</th>\n",
       "      <th>Description</th>\n",
       "      <th>Quantity</th>\n",
       "      <th>InvoiceDate</th>\n",
       "      <th>Price</th>\n",
       "      <th>Customer ID</th>\n",
       "      <th>Country</th>\n",
       "    </tr>\n",
       "  </thead>\n",
       "  <tbody>\n",
       "    <tr>\n",
       "      <th>0</th>\n",
       "      <td>489434</td>\n",
       "      <td>85048</td>\n",
       "      <td>15CM CHRISTMAS GLASS BALL 20 LIGHTS</td>\n",
       "      <td>12</td>\n",
       "      <td>2009-12-01 07:45:00</td>\n",
       "      <td>6.95</td>\n",
       "      <td>13085.0</td>\n",
       "      <td>United Kingdom</td>\n",
       "    </tr>\n",
       "    <tr>\n",
       "      <th>1</th>\n",
       "      <td>489434</td>\n",
       "      <td>79323P</td>\n",
       "      <td>PINK CHERRY LIGHTS</td>\n",
       "      <td>12</td>\n",
       "      <td>2009-12-01 07:45:00</td>\n",
       "      <td>6.75</td>\n",
       "      <td>13085.0</td>\n",
       "      <td>United Kingdom</td>\n",
       "    </tr>\n",
       "    <tr>\n",
       "      <th>2</th>\n",
       "      <td>489434</td>\n",
       "      <td>79323W</td>\n",
       "      <td>WHITE CHERRY LIGHTS</td>\n",
       "      <td>12</td>\n",
       "      <td>2009-12-01 07:45:00</td>\n",
       "      <td>6.75</td>\n",
       "      <td>13085.0</td>\n",
       "      <td>United Kingdom</td>\n",
       "    </tr>\n",
       "    <tr>\n",
       "      <th>3</th>\n",
       "      <td>489434</td>\n",
       "      <td>22041</td>\n",
       "      <td>RECORD FRAME 7\" SINGLE SIZE</td>\n",
       "      <td>48</td>\n",
       "      <td>2009-12-01 07:45:00</td>\n",
       "      <td>2.10</td>\n",
       "      <td>13085.0</td>\n",
       "      <td>United Kingdom</td>\n",
       "    </tr>\n",
       "    <tr>\n",
       "      <th>4</th>\n",
       "      <td>489434</td>\n",
       "      <td>21232</td>\n",
       "      <td>STRAWBERRY CERAMIC TRINKET BOX</td>\n",
       "      <td>24</td>\n",
       "      <td>2009-12-01 07:45:00</td>\n",
       "      <td>1.25</td>\n",
       "      <td>13085.0</td>\n",
       "      <td>United Kingdom</td>\n",
       "    </tr>\n",
       "  </tbody>\n",
       "</table>\n",
       "</div>"
      ],
      "text/plain": [
       "  Invoice StockCode                          Description  Quantity  \\\n",
       "0  489434     85048  15CM CHRISTMAS GLASS BALL 20 LIGHTS        12   \n",
       "1  489434    79323P                   PINK CHERRY LIGHTS        12   \n",
       "2  489434    79323W                  WHITE CHERRY LIGHTS        12   \n",
       "3  489434     22041         RECORD FRAME 7\" SINGLE SIZE         48   \n",
       "4  489434     21232       STRAWBERRY CERAMIC TRINKET BOX        24   \n",
       "\n",
       "           InvoiceDate  Price  Customer ID         Country  \n",
       "0  2009-12-01 07:45:00   6.95      13085.0  United Kingdom  \n",
       "1  2009-12-01 07:45:00   6.75      13085.0  United Kingdom  \n",
       "2  2009-12-01 07:45:00   6.75      13085.0  United Kingdom  \n",
       "3  2009-12-01 07:45:00   2.10      13085.0  United Kingdom  \n",
       "4  2009-12-01 07:45:00   1.25      13085.0  United Kingdom  "
      ]
     },
     "execution_count": 4,
     "metadata": {},
     "output_type": "execute_result"
    }
   ],
   "source": [
    "data.head()"
   ]
  },
  {
   "cell_type": "code",
   "execution_count": 5,
   "id": "fdf0e23a",
   "metadata": {},
   "outputs": [
    {
     "name": "stdout",
     "output_type": "stream",
     "text": [
      "<class 'pandas.core.frame.DataFrame'>\n",
      "RangeIndex: 944468 entries, 0 to 944467\n",
      "Data columns (total 8 columns):\n",
      " #   Column       Non-Null Count   Dtype  \n",
      "---  ------       --------------   -----  \n",
      " 0   Invoice      944468 non-null  object \n",
      " 1   StockCode    944468 non-null  object \n",
      " 2   Description  940274 non-null  object \n",
      " 3   Quantity     944468 non-null  int64  \n",
      " 4   InvoiceDate  944468 non-null  object \n",
      " 5   Price        944468 non-null  float64\n",
      " 6   Customer ID  732567 non-null  float64\n",
      " 7   Country      944468 non-null  object \n",
      "dtypes: float64(2), int64(1), object(5)\n",
      "memory usage: 57.6+ MB\n"
     ]
    }
   ],
   "source": [
    "data.info()"
   ]
  },
  {
   "cell_type": "code",
   "execution_count": 123,
   "id": "32473e34",
   "metadata": {
    "scrolled": true
   },
   "outputs": [],
   "source": [
    "country_counts = data.Country.value_counts(normalize=True).reset_index()"
   ]
  },
  {
   "cell_type": "code",
   "execution_count": 131,
   "id": "d8ded18a",
   "metadata": {},
   "outputs": [
    {
     "data": {
      "text/plain": [
       "(array([8.97777765e-01, 2.11737269e-02, 2.00901533e-02, 1.68352381e-02,\n",
       "        6.77967524e-03, 4.75514033e-03, 4.07144036e-03, 3.97356919e-03,\n",
       "        2.98786677e-03, 2.45656618e-03, 2.14897109e-03, 1.78824595e-03,\n",
       "        1.76168092e-03, 1.48903983e-03, 1.45828032e-03, 1.34083492e-03,\n",
       "        1.18144475e-03, 9.56341073e-04, 8.68257026e-04, 7.24246602e-04,\n",
       "        7.04672369e-04, 6.09597526e-04, 5.35495074e-04, 5.27106118e-04,\n",
       "        4.73976058e-04, 4.46012869e-04, 3.77503055e-04, 3.18780358e-04,\n",
       "        2.95011647e-04, 2.15316557e-04, 1.71973614e-04, 1.31426990e-04,\n",
       "        1.06260119e-04, 8.38895678e-05, 8.24914083e-05, 7.55006110e-05,\n",
       "        7.41024515e-05, 6.29171758e-05, 4.19447839e-05, 3.49539866e-05,\n",
       "        1.25834352e-05]),\n",
       " array([ 0,  1,  2,  3,  4,  5,  6,  7,  8,  9, 10, 11, 12, 13, 14, 15, 16,\n",
       "        17, 18, 19, 20, 21, 22, 23, 24, 25, 26, 27, 28, 29, 30, 31, 32, 33,\n",
       "        34, 35, 36, 37, 38, 39, 40]))"
      ]
     },
     "execution_count": 131,
     "metadata": {},
     "output_type": "execute_result"
    }
   ],
   "source": [
    "country_counts.Country.values, country_counts.index.values"
   ]
  },
  {
   "cell_type": "code",
   "execution_count": 136,
   "id": "e9a44274",
   "metadata": {},
   "outputs": [],
   "source": [
    "labels , sizes = country_counts['index'].values, country_counts.Country.values\n",
    "labels = [f'{l}, {s*100:0.1f}%' for l, s in zip(labels, sizes)]"
   ]
  },
  {
   "cell_type": "code",
   "execution_count": 138,
   "id": "68192c7b",
   "metadata": {},
   "outputs": [
    {
     "data": {
      "image/png": "[encoded data removed]",
      "text/plain": [
       "<Figure size 1080x1080 with 1 Axes>"
      ]
     },
     "metadata": {},
     "output_type": "display_data"
    }
   ],
   "source": [
    "fig = plt.figure(figsize = (15,15))\n",
    "patches, texts = plt.pie(sizes )\n",
    "plt.legend(patches, labels, loc=\"best\")\n",
    "plt.show()"
   ]
  },
  {
   "cell_type": "markdown",
   "id": "3d432209",
   "metadata": {},
   "source": [
    "- customer ID has lot of none\n",
    "- country has lot of purchase in UK\n",
    "- quantity has negative values"
   ]
  },
  {
   "cell_type": "code",
   "execution_count": 7,
   "id": "a1c1f871",
   "metadata": {},
   "outputs": [],
   "source": [
    "data = data.dropna()\n",
    "data = data[data['Quantity']>=0]\n",
    "data = data[data['Price']>=0]"
   ]
  },
  {
   "cell_type": "code",
   "execution_count": 8,
   "id": "0b03a923",
   "metadata": {},
   "outputs": [
    {
     "data": {
      "text/plain": [
       "(715226, 8)"
      ]
     },
     "execution_count": 8,
     "metadata": {},
     "output_type": "execute_result"
    }
   ],
   "source": [
    "data.shape"
   ]
  },
  {
   "cell_type": "code",
   "execution_count": 9,
   "id": "9b62b27d",
   "metadata": {},
   "outputs": [],
   "source": [
    "data['TotalPrice'] = data['Quantity']*data['Price']\n",
    "data['InvoiceDate'] = pd.to_datetime(data['InvoiceDate'])\n",
    "data['monthYear'] = data['InvoiceDate'].dt.year.astype(str) +\"-\"+ data['InvoiceDate'].dt.month.astype(str)"
   ]
  },
  {
   "cell_type": "code",
   "execution_count": 10,
   "id": "68306524",
   "metadata": {},
   "outputs": [
    {
     "data": {
      "image/png": "[encoded data removed]",
      "text/plain": [
       "<Figure size 1440x360 with 1 Axes>"
      ]
     },
     "metadata": {
      "needs_background": "light"
     },
     "output_type": "display_data"
    }
   ],
   "source": [
    "fig = plt.figure(figsize=(20,5))\n",
    "grouped = data.groupby('monthYear')['TotalPrice'].sum().reset_index()\n",
    "_=plt.plot_date(grouped['monthYear'], grouped['TotalPrice'], linestyle='solid')\n",
    "_=plt.xlabel(\"Invoice Month-Year\")\n",
    "_=plt.ylabel(\"Total Revenue\")"
   ]
  },
  {
   "cell_type": "code",
   "execution_count": 11,
   "id": "ce13bad8",
   "metadata": {},
   "outputs": [
    {
     "data": {
      "text/html": [
       "<div>\n",
       "<style scoped>\n",
       "    .dataframe tbody tr th:only-of-type {\n",
       "        vertical-align: middle;\n",
       "    }\n",
       "\n",
       "    .dataframe tbody tr th {\n",
       "        vertical-align: top;\n",
       "    }\n",
       "\n",
       "    .dataframe thead th {\n",
       "        text-align: right;\n",
       "    }\n",
       "</style>\n",
       "<table border=\"1\" class=\"dataframe\">\n",
       "  <thead>\n",
       "    <tr style=\"text-align: right;\">\n",
       "      <th></th>\n",
       "      <th>Country</th>\n",
       "      <th>TotalPrice</th>\n",
       "    </tr>\n",
       "  </thead>\n",
       "  <tbody>\n",
       "    <tr>\n",
       "      <th>38</th>\n",
       "      <td>United Kingdom</td>\n",
       "      <td>1.323429e+07</td>\n",
       "    </tr>\n",
       "    <tr>\n",
       "      <th>10</th>\n",
       "      <td>EIRE</td>\n",
       "      <td>5.833226e+05</td>\n",
       "    </tr>\n",
       "    <tr>\n",
       "      <th>24</th>\n",
       "      <td>Netherlands</td>\n",
       "      <td>5.209230e+05</td>\n",
       "    </tr>\n",
       "    <tr>\n",
       "      <th>14</th>\n",
       "      <td>Germany</td>\n",
       "      <td>3.917900e+05</td>\n",
       "    </tr>\n",
       "    <tr>\n",
       "      <th>13</th>\n",
       "      <td>France</td>\n",
       "      <td>3.168800e+05</td>\n",
       "    </tr>\n",
       "  </tbody>\n",
       "</table>\n",
       "</div>"
      ],
      "text/plain": [
       "           Country    TotalPrice\n",
       "38  United Kingdom  1.323429e+07\n",
       "10            EIRE  5.833226e+05\n",
       "24     Netherlands  5.209230e+05\n",
       "14         Germany  3.917900e+05\n",
       "13          France  3.168800e+05"
      ]
     },
     "execution_count": 11,
     "metadata": {},
     "output_type": "execute_result"
    }
   ],
   "source": [
    "data.groupby('Country')['TotalPrice'].sum().reset_index().sort_values(by=\"TotalPrice\", ascending=False).head()"
   ]
  },
  {
   "cell_type": "code",
   "execution_count": 12,
   "id": "040a067e",
   "metadata": {},
   "outputs": [
    {
     "data": {
      "text/plain": [
       "(Timestamp('2009-12-01 07:45:00'), Timestamp('2011-11-09 12:49:00'))"
      ]
     },
     "execution_count": 12,
     "metadata": {},
     "output_type": "execute_result"
    }
   ],
   "source": [
    "data.InvoiceDate.min(),data.InvoiceDate.max()"
   ]
  },
  {
   "cell_type": "markdown",
   "id": "0024b9af",
   "metadata": {},
   "source": [
    "# Feature Engineering"
   ]
  },
  {
   "cell_type": "markdown",
   "id": "e41e4dda",
   "metadata": {},
   "source": [
    "## Model is being tested on out of time predictions"
   ]
  },
  {
   "cell_type": "code",
   "execution_count": 95,
   "id": "f227dccb",
   "metadata": {},
   "outputs": [],
   "source": [
    "train_part1_split = data[data['InvoiceDate'] < pd.to_datetime(\"2011-09-10\")]\n",
    "train_part2_split = data[(data['InvoiceDate'] >= pd.to_datetime(\"2011-09-10\")) &\n",
    "                         (data['InvoiceDate'] < pd.to_datetime(\"2011-10-10\"))]\n",
    "\n",
    "\n",
    "test_part1_split = data[(data['InvoiceDate'] >= pd.to_datetime(\"2010-01-01\")) & \n",
    "                        (data['InvoiceDate'] < pd.to_datetime(\"2011-10-10\"))]\n",
    "test_part2_split = data[(data['InvoiceDate'] >= pd.to_datetime(\"2011-10-10\")) &\n",
    "                         (data['InvoiceDate'] < pd.to_datetime(\"2011-11-10\"))]"
   ]
  },
  {
   "cell_type": "code",
   "execution_count": 144,
   "id": "663924a6",
   "metadata": {},
   "outputs": [
    {
     "data": {
      "text/plain": [
       "3"
      ]
     },
     "execution_count": 144,
     "metadata": {},
     "output_type": "execute_result"
    }
   ],
   "source": [
    "customers_train['FrequencySegment'].unique()"
   ]
  },
  {
   "cell_type": "code",
   "execution_count": 147,
   "id": "92ab5573",
   "metadata": {},
   "outputs": [],
   "source": [
    "def transform_data(df1, df2, nQuantiles=3):\n",
    "    result = df1.groupby(\"Customer ID\").agg({'InvoiceDate': 'max', 'Invoice':'count', 'TotalPrice': 'sum'})\\\n",
    "                    .reset_index()\\\n",
    "                    .rename(columns={\"InvoiceDate\": \"LastPurchaseDate\",\n",
    "                                     \"Invoice\": \"Frequency\",\n",
    "                                     \"TotalPrice\": \"Monetary\"\n",
    "                                    })\n",
    "    _next_ = df2.groupby(\"Customer ID\")[\"InvoiceDate\"].min()\\\n",
    "                    .reset_index()\\\n",
    "                    .rename(columns={\"InvoiceDate\": \"NextPurchaseDate\"})\n",
    "    result = result.merge(_next_, \"left\", \"Customer ID\")\n",
    "    result['NextPurchaseDiff'] = (result['NextPurchaseDate'] - result['LastPurchaseDate']).dt.days\n",
    "    result['Recency'] = (result['LastPurchaseDate'].max() - result['LastPurchaseDate']).dt.days\n",
    "    result['NextPurchaseDiff'] = result['NextPurchaseDiff'].fillna(99999)\n",
    "    result['RecencySegment'] = pd.qcut(result['Recency'].values, nQuantiles).codes + 1\n",
    "    result['FrequencySegment'] = pd.qcut(result['Frequency'].values, nQuantiles).codes + 1\n",
    "    result['MonetarySegment'] = pd.qcut(result['Monetary'].values, nQuantiles).codes + 1\n",
    "    \n",
    "    def invert_score(df, col):\n",
    "        n = len(df[col].unique())\n",
    "        mapper = {}\n",
    "        for i in range(1, n+1):\n",
    "            mapper[i] = n+1-i\n",
    "        return mapper\n",
    "\n",
    "    result['FrequencySegment'] = result['FrequencySegment'].map(invert_score(result, 'FrequencySegment'))\n",
    "    result['MonetarySegment'] = result['MonetarySegment'].map(invert_score(result, 'MonetarySegment'))\n",
    "    result['RFMScore'] = result['RecencySegment'] + result['FrequencySegment'] +\\\n",
    "                         result['MonetarySegment']\n",
    "    result['RFMScoreGroup'] = result['RecencySegment'].apply(str) + result['FrequencySegment'].apply(str) +\\\n",
    "                         result['MonetarySegment'].apply(str)\n",
    "    result['Segment'] = result['RFMScore'].apply(lambda x : \"Low-Value\" if x<=4 else (\"Mid-Value\" if x<=7 else \"High-Value\") )\n",
    "    \n",
    "    return result"
   ]
  },
  {
   "cell_type": "code",
   "execution_count": 168,
   "id": "e139f5e7",
   "metadata": {},
   "outputs": [],
   "source": [
    "customers_train = transform_data(train_part1_split, train_part2_split)\n",
    "customers_test = transform_data(test_part1_split, test_part2_split)"
   ]
  },
  {
   "cell_type": "code",
   "execution_count": 169,
   "id": "592f57e2",
   "metadata": {},
   "outputs": [
    {
     "data": {
      "text/html": [
       "<div>\n",
       "<style scoped>\n",
       "    .dataframe tbody tr th:only-of-type {\n",
       "        vertical-align: middle;\n",
       "    }\n",
       "\n",
       "    .dataframe tbody tr th {\n",
       "        vertical-align: top;\n",
       "    }\n",
       "\n",
       "    .dataframe thead th {\n",
       "        text-align: right;\n",
       "    }\n",
       "</style>\n",
       "<table border=\"1\" class=\"dataframe\">\n",
       "  <thead>\n",
       "    <tr style=\"text-align: right;\">\n",
       "      <th></th>\n",
       "      <th>Customer ID</th>\n",
       "      <th>LastPurchaseDate</th>\n",
       "      <th>Frequency</th>\n",
       "      <th>Monetary</th>\n",
       "      <th>NextPurchaseDate</th>\n",
       "      <th>NextPurchaseDiff</th>\n",
       "      <th>Recency</th>\n",
       "      <th>RecencySegment</th>\n",
       "      <th>FrequencySegment</th>\n",
       "      <th>MonetarySegment</th>\n",
       "      <th>RFMScore</th>\n",
       "      <th>RFMScoreGroup</th>\n",
       "      <th>Segment</th>\n",
       "    </tr>\n",
       "  </thead>\n",
       "  <tbody>\n",
       "    <tr>\n",
       "      <th>0</th>\n",
       "      <td>12346.0</td>\n",
       "      <td>2011-01-18 10:01:00</td>\n",
       "      <td>34</td>\n",
       "      <td>77556.46</td>\n",
       "      <td>NaT</td>\n",
       "      <td>99999.0</td>\n",
       "      <td>234</td>\n",
       "      <td>2</td>\n",
       "      <td>2</td>\n",
       "      <td>1</td>\n",
       "      <td>5</td>\n",
       "      <td>221</td>\n",
       "      <td>Mid-Value</td>\n",
       "    </tr>\n",
       "    <tr>\n",
       "      <th>1</th>\n",
       "      <td>12347.0</td>\n",
       "      <td>2011-08-02 08:48:00</td>\n",
       "      <td>164</td>\n",
       "      <td>3402.39</td>\n",
       "      <td>NaT</td>\n",
       "      <td>99999.0</td>\n",
       "      <td>38</td>\n",
       "      <td>1</td>\n",
       "      <td>1</td>\n",
       "      <td>1</td>\n",
       "      <td>3</td>\n",
       "      <td>111</td>\n",
       "      <td>Low-Value</td>\n",
       "    </tr>\n",
       "    <tr>\n",
       "      <th>2</th>\n",
       "      <td>12348.0</td>\n",
       "      <td>2011-04-05 10:47:00</td>\n",
       "      <td>48</td>\n",
       "      <td>1709.40</td>\n",
       "      <td>2011-09-25 13:13:00</td>\n",
       "      <td>173.0</td>\n",
       "      <td>157</td>\n",
       "      <td>2</td>\n",
       "      <td>2</td>\n",
       "      <td>1</td>\n",
       "      <td>5</td>\n",
       "      <td>221</td>\n",
       "      <td>Mid-Value</td>\n",
       "    </tr>\n",
       "    <tr>\n",
       "      <th>3</th>\n",
       "      <td>12349.0</td>\n",
       "      <td>2010-10-28 08:23:00</td>\n",
       "      <td>102</td>\n",
       "      <td>2671.14</td>\n",
       "      <td>NaT</td>\n",
       "      <td>99999.0</td>\n",
       "      <td>316</td>\n",
       "      <td>3</td>\n",
       "      <td>1</td>\n",
       "      <td>1</td>\n",
       "      <td>5</td>\n",
       "      <td>311</td>\n",
       "      <td>Mid-Value</td>\n",
       "    </tr>\n",
       "    <tr>\n",
       "      <th>4</th>\n",
       "      <td>12350.0</td>\n",
       "      <td>2011-02-02 16:01:00</td>\n",
       "      <td>17</td>\n",
       "      <td>334.40</td>\n",
       "      <td>NaT</td>\n",
       "      <td>99999.0</td>\n",
       "      <td>218</td>\n",
       "      <td>2</td>\n",
       "      <td>3</td>\n",
       "      <td>3</td>\n",
       "      <td>8</td>\n",
       "      <td>233</td>\n",
       "      <td>High-Value</td>\n",
       "    </tr>\n",
       "  </tbody>\n",
       "</table>\n",
       "</div>"
      ],
      "text/plain": [
       "   Customer ID    LastPurchaseDate  Frequency  Monetary    NextPurchaseDate  \\\n",
       "0      12346.0 2011-01-18 10:01:00         34  77556.46                 NaT   \n",
       "1      12347.0 2011-08-02 08:48:00        164   3402.39                 NaT   \n",
       "2      12348.0 2011-04-05 10:47:00         48   1709.40 2011-09-25 13:13:00   \n",
       "3      12349.0 2010-10-28 08:23:00        102   2671.14                 NaT   \n",
       "4      12350.0 2011-02-02 16:01:00         17    334.40                 NaT   \n",
       "\n",
       "   NextPurchaseDiff  Recency  RecencySegment  FrequencySegment  \\\n",
       "0           99999.0      234               2                 2   \n",
       "1           99999.0       38               1                 1   \n",
       "2             173.0      157               2                 2   \n",
       "3           99999.0      316               3                 1   \n",
       "4           99999.0      218               2                 3   \n",
       "\n",
       "   MonetarySegment  RFMScore RFMScoreGroup     Segment  \n",
       "0                1         5           221   Mid-Value  \n",
       "1                1         3           111   Low-Value  \n",
       "2                1         5           221   Mid-Value  \n",
       "3                1         5           311   Mid-Value  \n",
       "4                3         8           233  High-Value  "
      ]
     },
     "execution_count": 169,
     "metadata": {},
     "output_type": "execute_result"
    }
   ],
   "source": [
    "customers_train.head()"
   ]
  },
  {
   "cell_type": "code",
   "execution_count": 170,
   "id": "28e1c3f4",
   "metadata": {},
   "outputs": [
    {
     "data": {
      "text/plain": [
       "<AxesSubplot: >"
      ]
     },
     "execution_count": 170,
     "metadata": {},
     "output_type": "execute_result"
    },
    {
     "data": {
      "image/png": "[encoded data removed]",
      "text/plain": [
       "<Figure size 1080x360 with 1 Axes>"
      ]
     },
     "metadata": {
      "needs_background": "light"
     },
     "output_type": "display_data"
    }
   ],
   "source": [
    "fig, ax = plt.subplots(figsize=(15,5))\n",
    "customers_train.sort_values(by='RFMScoreGroup')['RFMScoreGroup'].hist(ax=ax)"
   ]
  },
  {
   "cell_type": "markdown",
   "id": "ed3b5ddc",
   "metadata": {},
   "source": [
    "- Based on above plots we can divide the customers using RFMScore into low-value(3-4), mid-value(5-7) and high-value (8-9)"
   ]
  },
  {
   "cell_type": "code",
   "execution_count": 171,
   "id": "57a80d48",
   "metadata": {},
   "outputs": [
    {
     "data": {
      "text/html": [
       "<div>\n",
       "<style scoped>\n",
       "    .dataframe tbody tr th:only-of-type {\n",
       "        vertical-align: middle;\n",
       "    }\n",
       "\n",
       "    .dataframe tbody tr th {\n",
       "        vertical-align: top;\n",
       "    }\n",
       "\n",
       "    .dataframe thead th {\n",
       "        text-align: right;\n",
       "    }\n",
       "</style>\n",
       "<table border=\"1\" class=\"dataframe\">\n",
       "  <thead>\n",
       "    <tr style=\"text-align: right;\">\n",
       "      <th></th>\n",
       "      <th>RFMScore</th>\n",
       "    </tr>\n",
       "    <tr>\n",
       "      <th>Segment</th>\n",
       "      <th></th>\n",
       "    </tr>\n",
       "  </thead>\n",
       "  <tbody>\n",
       "    <tr>\n",
       "      <th>High-Value</th>\n",
       "      <td>[8, 9]</td>\n",
       "    </tr>\n",
       "    <tr>\n",
       "      <th>Low-Value</th>\n",
       "      <td>[3, 4]</td>\n",
       "    </tr>\n",
       "    <tr>\n",
       "      <th>Mid-Value</th>\n",
       "      <td>[5, 6, 7]</td>\n",
       "    </tr>\n",
       "  </tbody>\n",
       "</table>\n",
       "</div>"
      ],
      "text/plain": [
       "             RFMScore\n",
       "Segment              \n",
       "High-Value     [8, 9]\n",
       "Low-Value      [3, 4]\n",
       "Mid-Value   [5, 6, 7]"
      ]
     },
     "execution_count": 171,
     "metadata": {},
     "output_type": "execute_result"
    }
   ],
   "source": [
    "customers_train.groupby(\"Segment\").agg({\"RFMScore\":lambda x: list(np.unique(x))})"
   ]
  },
  {
   "cell_type": "code",
   "execution_count": 183,
   "id": "3bf0db1a",
   "metadata": {},
   "outputs": [
    {
     "data": {
      "image/png": "[encoded data removed]",
      "text/plain": [
       "<Figure size 432x288 with 1 Axes>"
      ]
     },
     "metadata": {
      "needs_background": "light"
     },
     "output_type": "display_data"
    }
   ],
   "source": [
    "_ = customers_train['RFMScore'].hist()\n",
    "_ = plt.title(\"Overall RFM Score\")"
   ]
  },
  {
   "cell_type": "code",
   "execution_count": 187,
   "id": "7fbc5760",
   "metadata": {},
   "outputs": [
    {
     "data": {
      "image/png": "[encoded data removed]",
      "text/plain": [
       "<Figure size 1080x360 with 3 Axes>"
      ]
     },
     "metadata": {
      "needs_background": "light"
     },
     "output_type": "display_data"
    }
   ],
   "source": [
    "fig, ax = plt.subplots(1, 3, figsize=(15, 5))\n",
    "sns.histplot(data=customers_train, x=\"Recency\", hue=\"RecencySegment\", ax=ax[0])\n",
    "sns.histplot(data=customers_train[customers_train['Frequency']<500], x=\"Frequency\", hue=\"FrequencySegment\", ax=ax[1])\n",
    "sns.histplot(data=customers_train[customers_train['Monetary']<5000], x=\"Monetary\", hue=\"MonetarySegment\", ax=ax[2])\n",
    "\n",
    "ax[0].title.set_text('Recency')\n",
    "ax[1].title.set_text('Frequency')\n",
    "ax[2].title.set_text('Monetary')"
   ]
  },
  {
   "cell_type": "code",
   "execution_count": 184,
   "id": "2155c181",
   "metadata": {},
   "outputs": [
    {
     "data": {
      "image/png": "[encoded data removed]",
      "text/plain": [
       "<Figure size 1080x360 with 3 Axes>"
      ]
     },
     "metadata": {
      "needs_background": "light"
     },
     "output_type": "display_data"
    }
   ],
   "source": [
    "fig, ax = plt.subplots(1, 3, figsize=(15, 5))\n",
    "customers_train['RecencySegment'].hist(ax=ax[0])\n",
    "customers_train['FrequencySegment'].hist(ax=ax[1])\n",
    "customers_train['MonetarySegment'].hist(ax=ax[2])\n",
    "ax[0].title.set_text('Recency Segment')\n",
    "ax[1].title.set_text('Frequency Segment')\n",
    "ax[2].title.set_text('Monetary Segment')"
   ]
  },
  {
   "cell_type": "code",
   "execution_count": 188,
   "id": "925a9977",
   "metadata": {},
   "outputs": [
    {
     "data": {
      "text/plain": [
       "Text(0.5, 1.0, 'Segment Distribution')"
      ]
     },
     "execution_count": 188,
     "metadata": {},
     "output_type": "execute_result"
    },
    {
     "data": {
      "image/png": "[encoded data removed]",
      "text/plain": [
       "<Figure size 432x288 with 1 Axes>"
      ]
     },
     "metadata": {
      "needs_background": "light"
     },
     "output_type": "display_data"
    }
   ],
   "source": [
    "customers_train['Segment'].hist()\n",
    "plt.title('Segment Distribution')"
   ]
  },
  {
   "cell_type": "code",
   "execution_count": 190,
   "id": "97dbf16e",
   "metadata": {},
   "outputs": [],
   "source": [
    "customers_train = pd.get_dummies(customers_train)\n",
    "customers_test = pd.get_dummies(customers_test)"
   ]
  },
  {
   "cell_type": "code",
   "execution_count": 154,
   "id": "fddc3dcd",
   "metadata": {},
   "outputs": [
    {
     "data": {
      "text/plain": [
       "True"
      ]
     },
     "execution_count": 154,
     "metadata": {},
     "output_type": "execute_result"
    }
   ],
   "source": [
    "all([i==j for i,j in zip(customers_train.columns, customers_test.columns)])"
   ]
  },
  {
   "cell_type": "code",
   "execution_count": 155,
   "id": "660d70fb",
   "metadata": {},
   "outputs": [
    {
     "data": {
      "text/plain": [
       "[3, 4, 5, 6, 7, 8, 9]"
      ]
     },
     "execution_count": 155,
     "metadata": {},
     "output_type": "execute_result"
    }
   ],
   "source": [
    "sorted(customers_train['RFMScore'].unique())"
   ]
  },
  {
   "cell_type": "code",
   "execution_count": 156,
   "id": "d102c5f6",
   "metadata": {},
   "outputs": [
    {
     "data": {
      "text/plain": [
       "Index(['Customer ID', 'LastPurchaseDate', 'Frequency', 'Monetary',\n",
       "       'NextPurchaseDate', 'NextPurchaseDiff', 'Recency', 'RecencySegment',\n",
       "       'FrequencySegment', 'MonetarySegment', 'RFMScore', 'RFMScoreGroup_111',\n",
       "       'RFMScoreGroup_112', 'RFMScoreGroup_113', 'RFMScoreGroup_121',\n",
       "       'RFMScoreGroup_122', 'RFMScoreGroup_123', 'RFMScoreGroup_131',\n",
       "       'RFMScoreGroup_132', 'RFMScoreGroup_133', 'RFMScoreGroup_211',\n",
       "       'RFMScoreGroup_212', 'RFMScoreGroup_213', 'RFMScoreGroup_221',\n",
       "       'RFMScoreGroup_222', 'RFMScoreGroup_223', 'RFMScoreGroup_231',\n",
       "       'RFMScoreGroup_232', 'RFMScoreGroup_233', 'RFMScoreGroup_311',\n",
       "       'RFMScoreGroup_312', 'RFMScoreGroup_313', 'RFMScoreGroup_321',\n",
       "       'RFMScoreGroup_322', 'RFMScoreGroup_323', 'RFMScoreGroup_331',\n",
       "       'RFMScoreGroup_332', 'RFMScoreGroup_333', 'Segment_High-Value',\n",
       "       'Segment_Low-Value', 'Segment_Mid-Value'],\n",
       "      dtype='object')"
      ]
     },
     "execution_count": 156,
     "metadata": {},
     "output_type": "execute_result"
    }
   ],
   "source": [
    "customers_train.columns"
   ]
  },
  {
   "cell_type": "markdown",
   "id": "70cf9ca7",
   "metadata": {},
   "source": [
    "# Model"
   ]
  },
  {
   "cell_type": "code",
   "execution_count": 192,
   "id": "d0b7f194",
   "metadata": {},
   "outputs": [
    {
     "data": {
      "text/html": [
       "<div>\n",
       "<style scoped>\n",
       "    .dataframe tbody tr th:only-of-type {\n",
       "        vertical-align: middle;\n",
       "    }\n",
       "\n",
       "    .dataframe tbody tr th {\n",
       "        vertical-align: top;\n",
       "    }\n",
       "\n",
       "    .dataframe thead th {\n",
       "        text-align: right;\n",
       "    }\n",
       "</style>\n",
       "<table border=\"1\" class=\"dataframe\">\n",
       "  <thead>\n",
       "    <tr style=\"text-align: right;\">\n",
       "      <th></th>\n",
       "      <th>count</th>\n",
       "      <th>mean</th>\n",
       "      <th>std</th>\n",
       "      <th>min</th>\n",
       "      <th>25%</th>\n",
       "      <th>50%</th>\n",
       "      <th>75%</th>\n",
       "      <th>max</th>\n",
       "    </tr>\n",
       "  </thead>\n",
       "  <tbody>\n",
       "    <tr>\n",
       "      <th>Frequency</th>\n",
       "      <td>5283.0</td>\n",
       "      <td>117.475487</td>\n",
       "      <td>282.410176</td>\n",
       "      <td>1.0</td>\n",
       "      <td>19.00</td>\n",
       "      <td>48.00</td>\n",
       "      <td>119.000</td>\n",
       "      <td>9180.00</td>\n",
       "    </tr>\n",
       "    <tr>\n",
       "      <th>Monetary</th>\n",
       "      <td>5283.0</td>\n",
       "      <td>2636.864663</td>\n",
       "      <td>12223.337903</td>\n",
       "      <td>0.0</td>\n",
       "      <td>318.04</td>\n",
       "      <td>782.95</td>\n",
       "      <td>2077.805</td>\n",
       "      <td>456780.49</td>\n",
       "    </tr>\n",
       "    <tr>\n",
       "      <th>Recency</th>\n",
       "      <td>5283.0</td>\n",
       "      <td>206.829264</td>\n",
       "      <td>175.130360</td>\n",
       "      <td>0.0</td>\n",
       "      <td>49.00</td>\n",
       "      <td>163.00</td>\n",
       "      <td>326.000</td>\n",
       "      <td>647.00</td>\n",
       "    </tr>\n",
       "    <tr>\n",
       "      <th>RecencySegment</th>\n",
       "      <td>5283.0</td>\n",
       "      <td>1.997918</td>\n",
       "      <td>0.817614</td>\n",
       "      <td>1.0</td>\n",
       "      <td>1.00</td>\n",
       "      <td>2.00</td>\n",
       "      <td>3.000</td>\n",
       "      <td>3.00</td>\n",
       "    </tr>\n",
       "    <tr>\n",
       "      <th>FrequencySegment</th>\n",
       "      <td>5283.0</td>\n",
       "      <td>2.001325</td>\n",
       "      <td>0.815993</td>\n",
       "      <td>1.0</td>\n",
       "      <td>1.00</td>\n",
       "      <td>2.00</td>\n",
       "      <td>3.000</td>\n",
       "      <td>3.00</td>\n",
       "    </tr>\n",
       "    <tr>\n",
       "      <th>MonetarySegment</th>\n",
       "      <td>5283.0</td>\n",
       "      <td>2.000000</td>\n",
       "      <td>0.816574</td>\n",
       "      <td>1.0</td>\n",
       "      <td>1.00</td>\n",
       "      <td>2.00</td>\n",
       "      <td>3.000</td>\n",
       "      <td>3.00</td>\n",
       "    </tr>\n",
       "    <tr>\n",
       "      <th>RFMScore</th>\n",
       "      <td>5283.0</td>\n",
       "      <td>5.999243</td>\n",
       "      <td>2.047246</td>\n",
       "      <td>3.0</td>\n",
       "      <td>4.00</td>\n",
       "      <td>6.00</td>\n",
       "      <td>8.000</td>\n",
       "      <td>9.00</td>\n",
       "    </tr>\n",
       "    <tr>\n",
       "      <th>Segment_High-Value</th>\n",
       "      <td>5283.0</td>\n",
       "      <td>0.290933</td>\n",
       "      <td>0.454236</td>\n",
       "      <td>0.0</td>\n",
       "      <td>0.00</td>\n",
       "      <td>0.00</td>\n",
       "      <td>1.000</td>\n",
       "      <td>1.00</td>\n",
       "    </tr>\n",
       "    <tr>\n",
       "      <th>Segment_Low-Value</th>\n",
       "      <td>5283.0</td>\n",
       "      <td>0.289987</td>\n",
       "      <td>0.453799</td>\n",
       "      <td>0.0</td>\n",
       "      <td>0.00</td>\n",
       "      <td>0.00</td>\n",
       "      <td>1.000</td>\n",
       "      <td>1.00</td>\n",
       "    </tr>\n",
       "    <tr>\n",
       "      <th>Segment_Mid-Value</th>\n",
       "      <td>5283.0</td>\n",
       "      <td>0.419080</td>\n",
       "      <td>0.493455</td>\n",
       "      <td>0.0</td>\n",
       "      <td>0.00</td>\n",
       "      <td>0.00</td>\n",
       "      <td>1.000</td>\n",
       "      <td>1.00</td>\n",
       "    </tr>\n",
       "  </tbody>\n",
       "</table>\n",
       "</div>"
      ],
      "text/plain": [
       "                     count         mean           std  min     25%     50%  \\\n",
       "Frequency           5283.0   117.475487    282.410176  1.0   19.00   48.00   \n",
       "Monetary            5283.0  2636.864663  12223.337903  0.0  318.04  782.95   \n",
       "Recency             5283.0   206.829264    175.130360  0.0   49.00  163.00   \n",
       "RecencySegment      5283.0     1.997918      0.817614  1.0    1.00    2.00   \n",
       "FrequencySegment    5283.0     2.001325      0.815993  1.0    1.00    2.00   \n",
       "MonetarySegment     5283.0     2.000000      0.816574  1.0    1.00    2.00   \n",
       "RFMScore            5283.0     5.999243      2.047246  3.0    4.00    6.00   \n",
       "Segment_High-Value  5283.0     0.290933      0.454236  0.0    0.00    0.00   \n",
       "Segment_Low-Value   5283.0     0.289987      0.453799  0.0    0.00    0.00   \n",
       "Segment_Mid-Value   5283.0     0.419080      0.493455  0.0    0.00    0.00   \n",
       "\n",
       "                         75%        max  \n",
       "Frequency            119.000    9180.00  \n",
       "Monetary            2077.805  456780.49  \n",
       "Recency              326.000     647.00  \n",
       "RecencySegment         3.000       3.00  \n",
       "FrequencySegment       3.000       3.00  \n",
       "MonetarySegment        3.000       3.00  \n",
       "RFMScore               8.000       9.00  \n",
       "Segment_High-Value     1.000       1.00  \n",
       "Segment_Low-Value      1.000       1.00  \n",
       "Segment_Mid-Value      1.000       1.00  "
      ]
     },
     "execution_count": 192,
     "metadata": {},
     "output_type": "execute_result"
    }
   ],
   "source": [
    "customers_train[preds].describe().transpose()"
   ]
  },
  {
   "cell_type": "code",
   "execution_count": 157,
   "id": "380b5901",
   "metadata": {},
   "outputs": [],
   "source": [
    "preds = [\n",
    "           'Frequency', 'Monetary', 'Recency', 'RecencySegment',\n",
    "           'FrequencySegment', 'MonetarySegment', 'RFMScore', 'Segment_High-Value',\n",
    "           'Segment_Low-Value', 'Segment_Mid-Value'\n",
    "        ]"
   ]
  },
  {
   "cell_type": "code",
   "execution_count": 158,
   "id": "1c640354",
   "metadata": {},
   "outputs": [],
   "source": [
    "customers_train['label'] = customers_train['NextPurchaseDiff']<30\n",
    "customers_test['label'] = customers_test['NextPurchaseDiff']<30"
   ]
  },
  {
   "cell_type": "code",
   "execution_count": 159,
   "id": "b2df90c5",
   "metadata": {},
   "outputs": [],
   "source": [
    "models = []\n",
    "models.append((\"LogisticRegression\", LogisticRegression()))\n",
    "models.append((\"GaussianNB\", GaussianNB()))\n",
    "models.append((\"RandomForestClassifier\", RandomForestClassifier()))\n",
    "models.append((\"xgboost\", xgb.XGBClassifier(eval_metric='mlogloss')))"
   ]
  },
  {
   "cell_type": "code",
   "execution_count": 160,
   "id": "ba8a3943",
   "metadata": {},
   "outputs": [
    {
     "name": "stderr",
     "output_type": "stream",
     "text": [
      "<ipython-input-160-7d24564341db>:4: SettingWithCopyWarning: \n",
      "A value is trying to be set on a copy of a slice from a DataFrame.\n",
      "Try using .loc[row_indexer,col_indexer] = value instead\n",
      "\n",
      "See the caveats in the documentation: https://pandas.pydata.org/pandas-docs/stable/user_guide/indexing.html#returning-a-view-versus-a-copy\n",
      "  X_train[['Frequency', 'Monetary', 'Recency']] = scaler.fit_transform(X_train[['Frequency', 'Monetary', 'Recency']])\n",
      "<ipython-input-160-7d24564341db>:5: SettingWithCopyWarning: \n",
      "A value is trying to be set on a copy of a slice from a DataFrame.\n",
      "Try using .loc[row_indexer,col_indexer] = value instead\n",
      "\n",
      "See the caveats in the documentation: https://pandas.pydata.org/pandas-docs/stable/user_guide/indexing.html#returning-a-view-versus-a-copy\n",
      "  X_test[['Frequency', 'Monetary', 'Recency']] = scaler.transform(X_test[['Frequency', 'Monetary', 'Recency']])\n"
     ]
    }
   ],
   "source": [
    "X_train, y_train = customers_train[preds], customers_train['label']\n",
    "X_test, y_test = customers_test[preds], customers_test['label']\n",
    "scaler = StandardScaler()\n",
    "X_train[['Frequency', 'Monetary', 'Recency']] = scaler.fit_transform(X_train[['Frequency', 'Monetary', 'Recency']])\n",
    "X_test[['Frequency', 'Monetary', 'Recency']] = scaler.transform(X_test[['Frequency', 'Monetary', 'Recency']])\n",
    "\n",
    "model_results=[]\n",
    "# For each model name and model in models\n",
    "for model_name, model in models: \n",
    "    model.fit(X_train, y_train)\n",
    "    y_pred = model.predict_proba(X_test)[:,1]\n",
    "    y_label = y_pred>0.5\n",
    "    f1 = f1_score(y_test, y_label, average='macro')\n",
    "    auc = roc_auc_score(y_test, y_pred)\n",
    "    precision = precision_score(y_test, y_label, average='macro')\n",
    "    recall = recall_score(y_test, y_label, average='macro')\n",
    "    model_results.append([model_name, auc, f1, recall, precision])\n",
    "\n",
    "model_score_df = pd.DataFrame(model_results, columns=['model_name', 'auc', 'f1_score', 'recall', 'precision']\n",
    "                             ).set_index(\"model_name\")"
   ]
  },
  {
   "cell_type": "markdown",
   "id": "90651b9b",
   "metadata": {},
   "source": [
    "# Evaluation"
   ]
  },
  {
   "cell_type": "code",
   "execution_count": 161,
   "id": "12acade9",
   "metadata": {
    "scrolled": true
   },
   "outputs": [
    {
     "data": {
      "text/html": [
       "<div>\n",
       "<style scoped>\n",
       "    .dataframe tbody tr th:only-of-type {\n",
       "        vertical-align: middle;\n",
       "    }\n",
       "\n",
       "    .dataframe tbody tr th {\n",
       "        vertical-align: top;\n",
       "    }\n",
       "\n",
       "    .dataframe thead th {\n",
       "        text-align: right;\n",
       "    }\n",
       "</style>\n",
       "<table border=\"1\" class=\"dataframe\">\n",
       "  <thead>\n",
       "    <tr style=\"text-align: right;\">\n",
       "      <th></th>\n",
       "      <th>auc</th>\n",
       "      <th>f1_score</th>\n",
       "      <th>recall</th>\n",
       "      <th>precision</th>\n",
       "    </tr>\n",
       "    <tr>\n",
       "      <th>model_name</th>\n",
       "      <th></th>\n",
       "      <th></th>\n",
       "      <th></th>\n",
       "      <th></th>\n",
       "    </tr>\n",
       "  </thead>\n",
       "  <tbody>\n",
       "    <tr>\n",
       "      <th>LogisticRegression</th>\n",
       "      <td>0.951074</td>\n",
       "      <td>0.602223</td>\n",
       "      <td>0.565516</td>\n",
       "      <td>0.909506</td>\n",
       "    </tr>\n",
       "    <tr>\n",
       "      <th>GaussianNB</th>\n",
       "      <td>0.936811</td>\n",
       "      <td>0.585711</td>\n",
       "      <td>0.873256</td>\n",
       "      <td>0.593203</td>\n",
       "    </tr>\n",
       "    <tr>\n",
       "      <th>RandomForestClassifier</th>\n",
       "      <td>0.925347</td>\n",
       "      <td>0.679638</td>\n",
       "      <td>0.647342</td>\n",
       "      <td>0.736174</td>\n",
       "    </tr>\n",
       "    <tr>\n",
       "      <th>xgboost</th>\n",
       "      <td>0.927976</td>\n",
       "      <td>0.661869</td>\n",
       "      <td>0.644546</td>\n",
       "      <td>0.685385</td>\n",
       "    </tr>\n",
       "  </tbody>\n",
       "</table>\n",
       "</div>"
      ],
      "text/plain": [
       "                             auc  f1_score    recall  precision\n",
       "model_name                                                     \n",
       "LogisticRegression      0.951074  0.602223  0.565516   0.909506\n",
       "GaussianNB              0.936811  0.585711  0.873256   0.593203\n",
       "RandomForestClassifier  0.925347  0.679638  0.647342   0.736174\n",
       "xgboost                 0.927976  0.661869  0.644546   0.685385"
      ]
     },
     "execution_count": 161,
     "metadata": {},
     "output_type": "execute_result"
    }
   ],
   "source": [
    "model_score_df"
   ]
  },
  {
   "cell_type": "markdown",
   "id": "2f53233b",
   "metadata": {},
   "source": [
    "# Hyper-param tuning"
   ]
  },
  {
   "cell_type": "code",
   "execution_count": 162,
   "id": "b958067b",
   "metadata": {},
   "outputs": [
    {
     "data": {
      "text/html": [
       "<style>#sk-container-id-10 {color: black;background-color: white;}#sk-container-id-10 pre{padding: 0;}#sk-container-id-10 div.sk-toggleable {background-color: white;}#sk-container-id-10 label.sk-toggleable__label {cursor: pointer;display: block;width: 100%;margin-bottom: 0;padding: 0.3em;box-sizing: border-box;text-align: center;}#sk-container-id-10 label.sk-toggleable__label-arrow:before {content: \"▸\";float: left;margin-right: 0.25em;color: #696969;}#sk-container-id-10 label.sk-toggleable__label-arrow:hover:before {color: black;}#sk-container-id-10 div.sk-estimator:hover label.sk-toggleable__label-arrow:before {color: black;}#sk-container-id-10 div.sk-toggleable__content {max-height: 0;max-width: 0;overflow: hidden;text-align: left;background-color: #f0f8ff;}#sk-container-id-10 div.sk-toggleable__content pre {margin: 0.2em;color: black;border-radius: 0.25em;background-color: #f0f8ff;}#sk-container-id-10 input.sk-toggleable__control:checked~div.sk-toggleable__content {max-height: 200px;max-width: 100%;overflow: auto;}#sk-container-id-10 input.sk-toggleable__control:checked~label.sk-toggleable__label-arrow:before {content: \"▾\";}#sk-container-id-10 div.sk-estimator input.sk-toggleable__control:checked~label.sk-toggleable__label {background-color: #d4ebff;}#sk-container-id-10 div.sk-label input.sk-toggleable__control:checked~label.sk-toggleable__label {background-color: #d4ebff;}#sk-container-id-10 input.sk-hidden--visually {border: 0;clip: rect(1px 1px 1px 1px);clip: rect(1px, 1px, 1px, 1px);height: 1px;margin: -1px;overflow: hidden;padding: 0;position: absolute;width: 1px;}#sk-container-id-10 div.sk-estimator {font-family: monospace;background-color: #f0f8ff;border: 1px dotted black;border-radius: 0.25em;box-sizing: border-box;margin-bottom: 0.5em;}#sk-container-id-10 div.sk-estimator:hover {background-color: #d4ebff;}#sk-container-id-10 div.sk-parallel-item::after {content: \"\";width: 100%;border-bottom: 1px solid gray;flex-grow: 1;}#sk-container-id-10 div.sk-label:hover label.sk-toggleable__label {background-color: #d4ebff;}#sk-container-id-10 div.sk-serial::before {content: \"\";position: absolute;border-left: 1px solid gray;box-sizing: border-box;top: 0;bottom: 0;left: 50%;z-index: 0;}#sk-container-id-10 div.sk-serial {display: flex;flex-direction: column;align-items: center;background-color: white;padding-right: 0.2em;padding-left: 0.2em;position: relative;}#sk-container-id-10 div.sk-item {position: relative;z-index: 1;}#sk-container-id-10 div.sk-parallel {display: flex;align-items: stretch;justify-content: center;background-color: white;position: relative;}#sk-container-id-10 div.sk-item::before, #sk-container-id-10 div.sk-parallel-item::before {content: \"\";position: absolute;border-left: 1px solid gray;box-sizing: border-box;top: 0;bottom: 0;left: 50%;z-index: -1;}#sk-container-id-10 div.sk-parallel-item {display: flex;flex-direction: column;z-index: 1;position: relative;background-color: white;}#sk-container-id-10 div.sk-parallel-item:first-child::after {align-self: flex-end;width: 50%;}#sk-container-id-10 div.sk-parallel-item:last-child::after {align-self: flex-start;width: 50%;}#sk-container-id-10 div.sk-parallel-item:only-child::after {width: 0;}#sk-container-id-10 div.sk-dashed-wrapped {border: 1px dashed gray;margin: 0 0.4em 0.5em 0.4em;box-sizing: border-box;padding-bottom: 0.4em;background-color: white;}#sk-container-id-10 div.sk-label label {font-family: monospace;font-weight: bold;display: inline-block;line-height: 1.2em;}#sk-container-id-10 div.sk-label-container {text-align: center;}#sk-container-id-10 div.sk-container {/* jupyter's `normalize.less` sets `[hidden] { display: none; }` but bootstrap.min.css set `[hidden] { display: none !important; }` so we also need the `!important` here to be able to override the default hidden behavior on the sphinx rendered scikit-learn.org. See: https://github.com/scikit-learn/scikit-learn/issues/21755 */display: inline-block !important;position: relative;}#sk-container-id-10 div.sk-text-repr-fallback {display: none;}</style><div id=\"sk-container-id-10\" class=\"sk-top-container\"><div class=\"sk-text-repr-fallback\"><pre>GridSearchCV(cv=StratifiedKFold(n_splits=5, random_state=None, shuffle=True),\n",
       "             estimator=XGBClassifier(base_score=None, booster=None,\n",
       "                                     callbacks=None, colsample_bylevel=None,\n",
       "                                     colsample_bynode=None,\n",
       "                                     colsample_bytree=None,\n",
       "                                     early_stopping_rounds=None,\n",
       "                                     enable_categorical=False,\n",
       "                                     eval_metric=&#x27;mlogloss&#x27;, feature_types=None,\n",
       "                                     gamma=None, gpu_id=None, grow_policy=None,\n",
       "                                     import...\n",
       "                                     max_cat_to_onehot=None,\n",
       "                                     max_delta_step=None, max_depth=None,\n",
       "                                     max_leaves=None, min_child_weight=None,\n",
       "                                     missing=nan, monotone_constraints=None,\n",
       "                                     n_estimators=100, n_jobs=None,\n",
       "                                     num_parallel_tree=None, predictor=None,\n",
       "                                     random_state=None, ...),\n",
       "             n_jobs=-1,\n",
       "             param_grid={&#x27;learning_rate&#x27;: [0.01, 0.05, 0.1],\n",
       "                         &#x27;max_depth&#x27;: range(3, 10, 2),\n",
       "                         &#x27;min_child_weight&#x27;: range(2, 5)},\n",
       "             scoring=&#x27;f1_macro&#x27;)</pre><b>In a Jupyter environment, please rerun this cell to show the HTML representation or trust the notebook. <br />On GitHub, the HTML representation is unable to render, please try loading this page with nbviewer.org.</b></div><div class=\"sk-container\" hidden><div class=\"sk-item sk-dashed-wrapped\"><div class=\"sk-label-container\"><div class=\"sk-label sk-toggleable\"><input class=\"sk-toggleable__control sk-hidden--visually\" id=\"sk-estimator-id-28\" type=\"checkbox\" ><label for=\"sk-estimator-id-28\" class=\"sk-toggleable__label sk-toggleable__label-arrow\">GridSearchCV</label><div class=\"sk-toggleable__content\"><pre>GridSearchCV(cv=StratifiedKFold(n_splits=5, random_state=None, shuffle=True),\n",
       "             estimator=XGBClassifier(base_score=None, booster=None,\n",
       "                                     callbacks=None, colsample_bylevel=None,\n",
       "                                     colsample_bynode=None,\n",
       "                                     colsample_bytree=None,\n",
       "                                     early_stopping_rounds=None,\n",
       "                                     enable_categorical=False,\n",
       "                                     eval_metric=&#x27;mlogloss&#x27;, feature_types=None,\n",
       "                                     gamma=None, gpu_id=None, grow_policy=None,\n",
       "                                     import...\n",
       "                                     max_cat_to_onehot=None,\n",
       "                                     max_delta_step=None, max_depth=None,\n",
       "                                     max_leaves=None, min_child_weight=None,\n",
       "                                     missing=nan, monotone_constraints=None,\n",
       "                                     n_estimators=100, n_jobs=None,\n",
       "                                     num_parallel_tree=None, predictor=None,\n",
       "                                     random_state=None, ...),\n",
       "             n_jobs=-1,\n",
       "             param_grid={&#x27;learning_rate&#x27;: [0.01, 0.05, 0.1],\n",
       "                         &#x27;max_depth&#x27;: range(3, 10, 2),\n",
       "                         &#x27;min_child_weight&#x27;: range(2, 5)},\n",
       "             scoring=&#x27;f1_macro&#x27;)</pre></div></div></div><div class=\"sk-parallel\"><div class=\"sk-parallel-item\"><div class=\"sk-item\"><div class=\"sk-label-container\"><div class=\"sk-label sk-toggleable\"><input class=\"sk-toggleable__control sk-hidden--visually\" id=\"sk-estimator-id-29\" type=\"checkbox\" ><label for=\"sk-estimator-id-29\" class=\"sk-toggleable__label sk-toggleable__label-arrow\">estimator: XGBClassifier</label><div class=\"sk-toggleable__content\"><pre>XGBClassifier(base_score=None, booster=None, callbacks=None,\n",
       "              colsample_bylevel=None, colsample_bynode=None,\n",
       "              colsample_bytree=None, early_stopping_rounds=None,\n",
       "              enable_categorical=False, eval_metric=&#x27;mlogloss&#x27;,\n",
       "              feature_types=None, gamma=None, gpu_id=None, grow_policy=None,\n",
       "              importance_type=None, interaction_constraints=None,\n",
       "              learning_rate=None, max_bin=None, max_cat_threshold=None,\n",
       "              max_cat_to_onehot=None, max_delta_step=None, max_depth=None,\n",
       "              max_leaves=None, min_child_weight=None, missing=nan,\n",
       "              monotone_constraints=None, n_estimators=100, n_jobs=None,\n",
       "              num_parallel_tree=None, predictor=None, random_state=None, ...)</pre></div></div></div><div class=\"sk-serial\"><div class=\"sk-item\"><div class=\"sk-estimator sk-toggleable\"><input class=\"sk-toggleable__control sk-hidden--visually\" id=\"sk-estimator-id-30\" type=\"checkbox\" ><label for=\"sk-estimator-id-30\" class=\"sk-toggleable__label sk-toggleable__label-arrow\">XGBClassifier</label><div class=\"sk-toggleable__content\"><pre>XGBClassifier(base_score=None, booster=None, callbacks=None,\n",
       "              colsample_bylevel=None, colsample_bynode=None,\n",
       "              colsample_bytree=None, early_stopping_rounds=None,\n",
       "              enable_categorical=False, eval_metric=&#x27;mlogloss&#x27;,\n",
       "              feature_types=None, gamma=None, gpu_id=None, grow_policy=None,\n",
       "              importance_type=None, interaction_constraints=None,\n",
       "              learning_rate=None, max_bin=None, max_cat_threshold=None,\n",
       "              max_cat_to_onehot=None, max_delta_step=None, max_depth=None,\n",
       "              max_leaves=None, min_child_weight=None, missing=nan,\n",
       "              monotone_constraints=None, n_estimators=100, n_jobs=None,\n",
       "              num_parallel_tree=None, predictor=None, random_state=None, ...)</pre></div></div></div></div></div></div></div></div></div></div>"
      ],
      "text/plain": [
       "GridSearchCV(cv=StratifiedKFold(n_splits=5, random_state=None, shuffle=True),\n",
       "             estimator=XGBClassifier(base_score=None, booster=None,\n",
       "                                     callbacks=None, colsample_bylevel=None,\n",
       "                                     colsample_bynode=None,\n",
       "                                     colsample_bytree=None,\n",
       "                                     early_stopping_rounds=None,\n",
       "                                     enable_categorical=False,\n",
       "                                     eval_metric='mlogloss', feature_types=None,\n",
       "                                     gamma=None, gpu_id=None, grow_policy=None,\n",
       "                                     import...\n",
       "                                     max_cat_to_onehot=None,\n",
       "                                     max_delta_step=None, max_depth=None,\n",
       "                                     max_leaves=None, min_child_weight=None,\n",
       "                                     missing=nan, monotone_constraints=None,\n",
       "                                     n_estimators=100, n_jobs=None,\n",
       "                                     num_parallel_tree=None, predictor=None,\n",
       "                                     random_state=None, ...),\n",
       "             n_jobs=-1,\n",
       "             param_grid={'learning_rate': [0.01, 0.05, 0.1],\n",
       "                         'max_depth': range(3, 10, 2),\n",
       "                         'min_child_weight': range(2, 5)},\n",
       "             scoring='f1_macro')"
      ]
     },
     "execution_count": 162,
     "metadata": {},
     "output_type": "execute_result"
    }
   ],
   "source": [
    "parameter = {\n",
    "    'max_depth':range(3,10,2), \n",
    "    'min_child_weight':range(2,5,1),\n",
    "    'learning_rate': [0.01, 0.05, 0.1]\n",
    "    }\n",
    "\n",
    "grid_search = GridSearchCV(estimator = xgb.XGBClassifier(eval_metric='mlogloss'),\n",
    "                             param_grid = parameter,\n",
    "                             scoring='f1_macro',\n",
    "                             n_jobs=-1,\n",
    "                             cv=StratifiedKFold( n_splits=5, shuffle=True)\n",
    "                            )\n",
    "\n",
    "grid_search.fit(X_train, y_train)"
   ]
  },
  {
   "cell_type": "code",
   "execution_count": 163,
   "id": "4d1352d3",
   "metadata": {
    "scrolled": true
   },
   "outputs": [
    {
     "data": {
      "text/plain": [
       "({'learning_rate': 0.01, 'max_depth': 5, 'min_child_weight': 4},\n",
       " 0.7152776558799634)"
      ]
     },
     "execution_count": 163,
     "metadata": {},
     "output_type": "execute_result"
    }
   ],
   "source": [
    "grid_search.best_params_, grid_search.best_score_"
   ]
  },
  {
   "cell_type": "code",
   "execution_count": 164,
   "id": "7092b3cb",
   "metadata": {},
   "outputs": [],
   "source": [
    "new_xgb = xgb.XGBClassifier(eval_metric='logloss', \n",
    "                            max_depth=grid_search.best_params_['max_depth'], \n",
    "                            min_child_weight=grid_search.best_params_['min_child_weight'],\n",
    "                            learning_rate=grid_search.best_params_['learning_rate']\n",
    "                         ).fit(X_train, y_train)\n",
    "y_pred = new_xgb.predict_proba(X_test)[:,1]\n",
    "y_label = y_pred>0.5\n",
    "f1 = f1_score(y_test, y_label, average='macro')\n",
    "auc = roc_auc_score(y_test, y_pred)\n",
    "precision = precision_score(y_test, y_label, average='macro')\n",
    "recall = recall_score(y_test, y_label, average='macro')\n",
    "model_results.append(['optimized_xgb', auc, f1, recall, precision])\n"
   ]
  },
  {
   "cell_type": "code",
   "execution_count": 165,
   "id": "630d5539",
   "metadata": {},
   "outputs": [
    {
     "data": {
      "text/html": [
       "<div>\n",
       "<style scoped>\n",
       "    .dataframe tbody tr th:only-of-type {\n",
       "        vertical-align: middle;\n",
       "    }\n",
       "\n",
       "    .dataframe tbody tr th {\n",
       "        vertical-align: top;\n",
       "    }\n",
       "\n",
       "    .dataframe thead th {\n",
       "        text-align: right;\n",
       "    }\n",
       "</style>\n",
       "<table border=\"1\" class=\"dataframe\">\n",
       "  <thead>\n",
       "    <tr style=\"text-align: right;\">\n",
       "      <th></th>\n",
       "      <th>auc</th>\n",
       "      <th>f1_score</th>\n",
       "      <th>recall</th>\n",
       "      <th>precision</th>\n",
       "    </tr>\n",
       "    <tr>\n",
       "      <th>model_name</th>\n",
       "      <th></th>\n",
       "      <th></th>\n",
       "      <th></th>\n",
       "      <th></th>\n",
       "    </tr>\n",
       "  </thead>\n",
       "  <tbody>\n",
       "    <tr>\n",
       "      <th>LogisticRegression</th>\n",
       "      <td>0.951074</td>\n",
       "      <td>0.602223</td>\n",
       "      <td>0.565516</td>\n",
       "      <td>0.909506</td>\n",
       "    </tr>\n",
       "    <tr>\n",
       "      <th>GaussianNB</th>\n",
       "      <td>0.936811</td>\n",
       "      <td>0.585711</td>\n",
       "      <td>0.873256</td>\n",
       "      <td>0.593203</td>\n",
       "    </tr>\n",
       "    <tr>\n",
       "      <th>RandomForestClassifier</th>\n",
       "      <td>0.925347</td>\n",
       "      <td>0.679638</td>\n",
       "      <td>0.647342</td>\n",
       "      <td>0.736174</td>\n",
       "    </tr>\n",
       "    <tr>\n",
       "      <th>xgboost</th>\n",
       "      <td>0.927976</td>\n",
       "      <td>0.661869</td>\n",
       "      <td>0.644546</td>\n",
       "      <td>0.685385</td>\n",
       "    </tr>\n",
       "    <tr>\n",
       "      <th>optimized_xgb</th>\n",
       "      <td>0.937074</td>\n",
       "      <td>0.688990</td>\n",
       "      <td>0.646588</td>\n",
       "      <td>0.778549</td>\n",
       "    </tr>\n",
       "  </tbody>\n",
       "</table>\n",
       "</div>"
      ],
      "text/plain": [
       "                             auc  f1_score    recall  precision\n",
       "model_name                                                     \n",
       "LogisticRegression      0.951074  0.602223  0.565516   0.909506\n",
       "GaussianNB              0.936811  0.585711  0.873256   0.593203\n",
       "RandomForestClassifier  0.925347  0.679638  0.647342   0.736174\n",
       "xgboost                 0.927976  0.661869  0.644546   0.685385\n",
       "optimized_xgb           0.937074  0.688990  0.646588   0.778549"
      ]
     },
     "execution_count": 165,
     "metadata": {},
     "output_type": "execute_result"
    }
   ],
   "source": [
    "model_score_df = pd.DataFrame(model_results, columns=['model_name', 'auc', 'f1_score', 'recall', 'precision']\n",
    "                             ).set_index(\"model_name\")\n",
    "model_score_df"
   ]
  },
  {
   "cell_type": "markdown",
   "id": "049bcb17",
   "metadata": {},
   "source": [
    "# Predictions"
   ]
  },
  {
   "cell_type": "code",
   "execution_count": null,
   "id": "589148dd",
   "metadata": {},
   "outputs": [],
   "source": []
  }
 ],
 "metadata": {
  "kernelspec": {
   "display_name": "Python 3",
   "language": "python",
   "name": "python3"
  },
  "language_info": {
   "codemirror_mode": {
    "name": "ipython",
    "version": 3
   },
   "file_extension": ".py",
   "mimetype": "text/x-python",
   "name": "python",
   "nbconvert_exporter": "python",
   "pygments_lexer": "ipython3",
   "version": "3.10.9"
  }
 },
 "nbformat": 4,
 "nbformat_minor": 5
}
