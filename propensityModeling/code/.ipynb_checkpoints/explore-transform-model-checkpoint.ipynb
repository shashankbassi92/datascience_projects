{
 "cells": [
  {
   "cell_type": "code",
   "execution_count": 189,
   "id": "0551c750",
   "metadata": {},
   "outputs": [
    {
     "ename": "ModuleNotFoundError",
     "evalue": "No module named 'xgboost'",
     "output_type": "error",
     "traceback": [
      "\u001b[0;31m---------------------------------------------------------------------------\u001b[0m",
      "\u001b[0;31mModuleNotFoundError\u001b[0m                       Traceback (most recent call last)",
      "\u001b[0;32m<ipython-input-189-de7f7fb3357b>\u001b[0m in \u001b[0;36m<module>\u001b[0;34m\u001b[0m\n\u001b[1;32m     10\u001b[0m \u001b[0;32mfrom\u001b[0m \u001b[0msklearn\u001b[0m\u001b[0;34m.\u001b[0m\u001b[0mmodel_selection\u001b[0m \u001b[0;32mimport\u001b[0m \u001b[0mKFold\u001b[0m\u001b[0;34m,\u001b[0m \u001b[0mcross_val_score\u001b[0m\u001b[0;34m\u001b[0m\u001b[0;34m\u001b[0m\u001b[0m\n\u001b[1;32m     11\u001b[0m \u001b[0;32mfrom\u001b[0m \u001b[0msklearn\u001b[0m\u001b[0;34m.\u001b[0m\u001b[0mmetrics\u001b[0m \u001b[0;32mimport\u001b[0m \u001b[0maccuracy_score\u001b[0m\u001b[0;34m,\u001b[0m \u001b[0mf1_score\u001b[0m\u001b[0;34m,\u001b[0m \u001b[0mprecision_score\u001b[0m\u001b[0;34m,\u001b[0m \u001b[0mrecall_score\u001b[0m\u001b[0;34m\u001b[0m\u001b[0;34m\u001b[0m\u001b[0m\n\u001b[0;32m---> 12\u001b[0;31m \u001b[0;32mimport\u001b[0m \u001b[0mxgboost\u001b[0m \u001b[0;32mas\u001b[0m \u001b[0mxgb\u001b[0m\u001b[0;34m\u001b[0m\u001b[0;34m\u001b[0m\u001b[0m\n\u001b[0m\u001b[1;32m     13\u001b[0m \u001b[0mget_ipython\u001b[0m\u001b[0;34m(\u001b[0m\u001b[0;34m)\u001b[0m\u001b[0;34m.\u001b[0m\u001b[0mrun_line_magic\u001b[0m\u001b[0;34m(\u001b[0m\u001b[0;34m'matplotlib'\u001b[0m\u001b[0;34m,\u001b[0m \u001b[0;34m'inline'\u001b[0m\u001b[0;34m)\u001b[0m\u001b[0;34m\u001b[0m\u001b[0;34m\u001b[0m\u001b[0m\n",
      "\u001b[0;31mModuleNotFoundError\u001b[0m: No module named 'xgboost'"
     ]
    }
   ],
   "source": [
    "import matplotlib.pyplot as plt\n",
    "import pandas as pd\n",
    "from sklearn.model_selection import train_test_split\n",
    "import numpy as np\n",
    "from sklearn.multioutput import MultiOutputClassifier\n",
    "from sklearn.ensemble import GradientBoostingClassifier\n",
    "from sklearn.naive_bayes import GaussianNB\n",
    "from sklearn.ensemble import RandomForestClassifier\n",
    "from sklearn.linear_model import LogisticRegression\n",
    "from sklearn.model_selection import KFold, cross_val_score\n",
    "from sklearn.metrics import accuracy_score, f1_score, precision_score, recall_score\n",
    "import xgboost as xgb\n",
    "%matplotlib inline"
   ]
  },
  {
   "cell_type": "code",
   "execution_count": 88,
   "id": "9be29d0e",
   "metadata": {},
   "outputs": [],
   "source": [
    "data = pd.read_csv(\"../Data/Data.csv\")"
   ]
  },
  {
   "cell_type": "code",
   "execution_count": 89,
   "id": "d406d8d2",
   "metadata": {},
   "outputs": [
    {
     "data": {
      "text/plain": [
       "(944468, 8)"
      ]
     },
     "execution_count": 89,
     "metadata": {},
     "output_type": "execute_result"
    }
   ],
   "source": [
    "data.shape"
   ]
  },
  {
   "cell_type": "code",
   "execution_count": 90,
   "id": "d728b0d6",
   "metadata": {},
   "outputs": [
    {
     "data": {
      "text/html": [
       "<div>\n",
       "<style scoped>\n",
       "    .dataframe tbody tr th:only-of-type {\n",
       "        vertical-align: middle;\n",
       "    }\n",
       "\n",
       "    .dataframe tbody tr th {\n",
       "        vertical-align: top;\n",
       "    }\n",
       "\n",
       "    .dataframe thead th {\n",
       "        text-align: right;\n",
       "    }\n",
       "</style>\n",
       "<table border=\"1\" class=\"dataframe\">\n",
       "  <thead>\n",
       "    <tr style=\"text-align: right;\">\n",
       "      <th></th>\n",
       "      <th>Invoice</th>\n",
       "      <th>StockCode</th>\n",
       "      <th>Description</th>\n",
       "      <th>Quantity</th>\n",
       "      <th>InvoiceDate</th>\n",
       "      <th>Price</th>\n",
       "      <th>Customer ID</th>\n",
       "      <th>Country</th>\n",
       "    </tr>\n",
       "  </thead>\n",
       "  <tbody>\n",
       "    <tr>\n",
       "      <th>0</th>\n",
       "      <td>489434</td>\n",
       "      <td>85048</td>\n",
       "      <td>15CM CHRISTMAS GLASS BALL 20 LIGHTS</td>\n",
       "      <td>12</td>\n",
       "      <td>2009-12-01 07:45:00</td>\n",
       "      <td>6.95</td>\n",
       "      <td>13085.0</td>\n",
       "      <td>United Kingdom</td>\n",
       "    </tr>\n",
       "    <tr>\n",
       "      <th>1</th>\n",
       "      <td>489434</td>\n",
       "      <td>79323P</td>\n",
       "      <td>PINK CHERRY LIGHTS</td>\n",
       "      <td>12</td>\n",
       "      <td>2009-12-01 07:45:00</td>\n",
       "      <td>6.75</td>\n",
       "      <td>13085.0</td>\n",
       "      <td>United Kingdom</td>\n",
       "    </tr>\n",
       "    <tr>\n",
       "      <th>2</th>\n",
       "      <td>489434</td>\n",
       "      <td>79323W</td>\n",
       "      <td>WHITE CHERRY LIGHTS</td>\n",
       "      <td>12</td>\n",
       "      <td>2009-12-01 07:45:00</td>\n",
       "      <td>6.75</td>\n",
       "      <td>13085.0</td>\n",
       "      <td>United Kingdom</td>\n",
       "    </tr>\n",
       "    <tr>\n",
       "      <th>3</th>\n",
       "      <td>489434</td>\n",
       "      <td>22041</td>\n",
       "      <td>RECORD FRAME 7\" SINGLE SIZE</td>\n",
       "      <td>48</td>\n",
       "      <td>2009-12-01 07:45:00</td>\n",
       "      <td>2.10</td>\n",
       "      <td>13085.0</td>\n",
       "      <td>United Kingdom</td>\n",
       "    </tr>\n",
       "    <tr>\n",
       "      <th>4</th>\n",
       "      <td>489434</td>\n",
       "      <td>21232</td>\n",
       "      <td>STRAWBERRY CERAMIC TRINKET BOX</td>\n",
       "      <td>24</td>\n",
       "      <td>2009-12-01 07:45:00</td>\n",
       "      <td>1.25</td>\n",
       "      <td>13085.0</td>\n",
       "      <td>United Kingdom</td>\n",
       "    </tr>\n",
       "  </tbody>\n",
       "</table>\n",
       "</div>"
      ],
      "text/plain": [
       "  Invoice StockCode                          Description  Quantity  \\\n",
       "0  489434     85048  15CM CHRISTMAS GLASS BALL 20 LIGHTS        12   \n",
       "1  489434    79323P                   PINK CHERRY LIGHTS        12   \n",
       "2  489434    79323W                  WHITE CHERRY LIGHTS        12   \n",
       "3  489434     22041         RECORD FRAME 7\" SINGLE SIZE         48   \n",
       "4  489434     21232       STRAWBERRY CERAMIC TRINKET BOX        24   \n",
       "\n",
       "           InvoiceDate  Price  Customer ID         Country  \n",
       "0  2009-12-01 07:45:00   6.95      13085.0  United Kingdom  \n",
       "1  2009-12-01 07:45:00   6.75      13085.0  United Kingdom  \n",
       "2  2009-12-01 07:45:00   6.75      13085.0  United Kingdom  \n",
       "3  2009-12-01 07:45:00   2.10      13085.0  United Kingdom  \n",
       "4  2009-12-01 07:45:00   1.25      13085.0  United Kingdom  "
      ]
     },
     "execution_count": 90,
     "metadata": {},
     "output_type": "execute_result"
    }
   ],
   "source": [
    "data.head()"
   ]
  },
  {
   "cell_type": "code",
   "execution_count": 91,
   "id": "933e58b5",
   "metadata": {},
   "outputs": [
    {
     "name": "stdout",
     "output_type": "stream",
     "text": [
      "<class 'pandas.core.frame.DataFrame'>\n",
      "RangeIndex: 944468 entries, 0 to 944467\n",
      "Data columns (total 8 columns):\n",
      " #   Column       Non-Null Count   Dtype  \n",
      "---  ------       --------------   -----  \n",
      " 0   Invoice      944468 non-null  object \n",
      " 1   StockCode    944468 non-null  object \n",
      " 2   Description  940274 non-null  object \n",
      " 3   Quantity     944468 non-null  int64  \n",
      " 4   InvoiceDate  944468 non-null  object \n",
      " 5   Price        944468 non-null  float64\n",
      " 6   Customer ID  732567 non-null  float64\n",
      " 7   Country      944468 non-null  object \n",
      "dtypes: float64(2), int64(1), object(5)\n",
      "memory usage: 57.6+ MB\n"
     ]
    }
   ],
   "source": [
    "data.info()"
   ]
  },
  {
   "cell_type": "code",
   "execution_count": 92,
   "id": "2ff3ebdc",
   "metadata": {
    "scrolled": true
   },
   "outputs": [
    {
     "data": {
      "text/html": [
       "<div>\n",
       "<style scoped>\n",
       "    .dataframe tbody tr th:only-of-type {\n",
       "        vertical-align: middle;\n",
       "    }\n",
       "\n",
       "    .dataframe tbody tr th {\n",
       "        vertical-align: top;\n",
       "    }\n",
       "\n",
       "    .dataframe thead th {\n",
       "        text-align: right;\n",
       "    }\n",
       "</style>\n",
       "<table border=\"1\" class=\"dataframe\">\n",
       "  <thead>\n",
       "    <tr style=\"text-align: right;\">\n",
       "      <th></th>\n",
       "      <th>index</th>\n",
       "      <th>Country</th>\n",
       "    </tr>\n",
       "  </thead>\n",
       "  <tbody>\n",
       "    <tr>\n",
       "      <th>0</th>\n",
       "      <td>United Kingdom</td>\n",
       "      <td>0.916955</td>\n",
       "    </tr>\n",
       "    <tr>\n",
       "      <th>1</th>\n",
       "      <td>EIRE</td>\n",
       "      <td>0.017339</td>\n",
       "    </tr>\n",
       "    <tr>\n",
       "      <th>2</th>\n",
       "      <td>Germany</td>\n",
       "      <td>0.016934</td>\n",
       "    </tr>\n",
       "    <tr>\n",
       "      <th>3</th>\n",
       "      <td>France</td>\n",
       "      <td>0.013236</td>\n",
       "    </tr>\n",
       "    <tr>\n",
       "      <th>4</th>\n",
       "      <td>Netherlands</td>\n",
       "      <td>0.005183</td>\n",
       "    </tr>\n",
       "    <tr>\n",
       "      <th>5</th>\n",
       "      <td>Spain</td>\n",
       "      <td>0.003690</td>\n",
       "    </tr>\n",
       "    <tr>\n",
       "      <th>6</th>\n",
       "      <td>Switzerland</td>\n",
       "      <td>0.003261</td>\n",
       "    </tr>\n",
       "    <tr>\n",
       "      <th>7</th>\n",
       "      <td>Belgium</td>\n",
       "      <td>0.003057</td>\n",
       "    </tr>\n",
       "    <tr>\n",
       "      <th>8</th>\n",
       "      <td>Portugal</td>\n",
       "      <td>0.002444</td>\n",
       "    </tr>\n",
       "    <tr>\n",
       "      <th>9</th>\n",
       "      <td>Australia</td>\n",
       "      <td>0.001964</td>\n",
       "    </tr>\n",
       "    <tr>\n",
       "      <th>10</th>\n",
       "      <td>Channel Islands</td>\n",
       "      <td>0.001725</td>\n",
       "    </tr>\n",
       "    <tr>\n",
       "      <th>11</th>\n",
       "      <td>Sweden</td>\n",
       "      <td>0.001399</td>\n",
       "    </tr>\n",
       "    <tr>\n",
       "      <th>12</th>\n",
       "      <td>Italy</td>\n",
       "      <td>0.001386</td>\n",
       "    </tr>\n",
       "    <tr>\n",
       "      <th>13</th>\n",
       "      <td>Norway</td>\n",
       "      <td>0.001147</td>\n",
       "    </tr>\n",
       "    <tr>\n",
       "      <th>14</th>\n",
       "      <td>Cyprus</td>\n",
       "      <td>0.001122</td>\n",
       "    </tr>\n",
       "    <tr>\n",
       "      <th>15</th>\n",
       "      <td>Finland</td>\n",
       "      <td>0.001031</td>\n",
       "    </tr>\n",
       "    <tr>\n",
       "      <th>16</th>\n",
       "      <td>Austria</td>\n",
       "      <td>0.000912</td>\n",
       "    </tr>\n",
       "    <tr>\n",
       "      <th>17</th>\n",
       "      <td>Denmark</td>\n",
       "      <td>0.000744</td>\n",
       "    </tr>\n",
       "    <tr>\n",
       "      <th>18</th>\n",
       "      <td>Unspecified</td>\n",
       "      <td>0.000740</td>\n",
       "    </tr>\n",
       "    <tr>\n",
       "      <th>19</th>\n",
       "      <td>Greece</td>\n",
       "      <td>0.000664</td>\n",
       "    </tr>\n",
       "    <tr>\n",
       "      <th>20</th>\n",
       "      <td>Japan</td>\n",
       "      <td>0.000556</td>\n",
       "    </tr>\n",
       "    <tr>\n",
       "      <th>21</th>\n",
       "      <td>Poland</td>\n",
       "      <td>0.000555</td>\n",
       "    </tr>\n",
       "    <tr>\n",
       "      <th>22</th>\n",
       "      <td>United Arab Emirates</td>\n",
       "      <td>0.000529</td>\n",
       "    </tr>\n",
       "    <tr>\n",
       "      <th>23</th>\n",
       "      <td>USA</td>\n",
       "      <td>0.000521</td>\n",
       "    </tr>\n",
       "    <tr>\n",
       "      <th>24</th>\n",
       "      <td>Israel</td>\n",
       "      <td>0.000390</td>\n",
       "    </tr>\n",
       "    <tr>\n",
       "      <th>25</th>\n",
       "      <td>Hong Kong</td>\n",
       "      <td>0.000379</td>\n",
       "    </tr>\n",
       "    <tr>\n",
       "      <th>26</th>\n",
       "      <td>Singapore</td>\n",
       "      <td>0.000366</td>\n",
       "    </tr>\n",
       "    <tr>\n",
       "      <th>27</th>\n",
       "      <td>Malta</td>\n",
       "      <td>0.000292</td>\n",
       "    </tr>\n",
       "    <tr>\n",
       "      <th>28</th>\n",
       "      <td>Canada</td>\n",
       "      <td>0.000241</td>\n",
       "    </tr>\n",
       "    <tr>\n",
       "      <th>29</th>\n",
       "      <td>Iceland</td>\n",
       "      <td>0.000223</td>\n",
       "    </tr>\n",
       "    <tr>\n",
       "      <th>30</th>\n",
       "      <td>RSA</td>\n",
       "      <td>0.000179</td>\n",
       "    </tr>\n",
       "    <tr>\n",
       "      <th>31</th>\n",
       "      <td>Lithuania</td>\n",
       "      <td>0.000163</td>\n",
       "    </tr>\n",
       "    <tr>\n",
       "      <th>32</th>\n",
       "      <td>Bahrain</td>\n",
       "      <td>0.000133</td>\n",
       "    </tr>\n",
       "    <tr>\n",
       "      <th>33</th>\n",
       "      <td>Brazil</td>\n",
       "      <td>0.000100</td>\n",
       "    </tr>\n",
       "    <tr>\n",
       "      <th>34</th>\n",
       "      <td>Thailand</td>\n",
       "      <td>0.000080</td>\n",
       "    </tr>\n",
       "    <tr>\n",
       "      <th>35</th>\n",
       "      <td>Korea</td>\n",
       "      <td>0.000067</td>\n",
       "    </tr>\n",
       "    <tr>\n",
       "      <th>36</th>\n",
       "      <td>European Community</td>\n",
       "      <td>0.000065</td>\n",
       "    </tr>\n",
       "    <tr>\n",
       "      <th>37</th>\n",
       "      <td>Lebanon</td>\n",
       "      <td>0.000061</td>\n",
       "    </tr>\n",
       "    <tr>\n",
       "      <th>38</th>\n",
       "      <td>West Indies</td>\n",
       "      <td>0.000057</td>\n",
       "    </tr>\n",
       "    <tr>\n",
       "      <th>39</th>\n",
       "      <td>Bermuda</td>\n",
       "      <td>0.000036</td>\n",
       "    </tr>\n",
       "    <tr>\n",
       "      <th>40</th>\n",
       "      <td>Nigeria</td>\n",
       "      <td>0.000034</td>\n",
       "    </tr>\n",
       "    <tr>\n",
       "      <th>41</th>\n",
       "      <td>Czech Republic</td>\n",
       "      <td>0.000029</td>\n",
       "    </tr>\n",
       "    <tr>\n",
       "      <th>42</th>\n",
       "      <td>Saudi Arabia</td>\n",
       "      <td>0.000011</td>\n",
       "    </tr>\n",
       "  </tbody>\n",
       "</table>\n",
       "</div>"
      ],
      "text/plain": [
       "                   index   Country\n",
       "0         United Kingdom  0.916955\n",
       "1                   EIRE  0.017339\n",
       "2                Germany  0.016934\n",
       "3                 France  0.013236\n",
       "4            Netherlands  0.005183\n",
       "5                  Spain  0.003690\n",
       "6            Switzerland  0.003261\n",
       "7                Belgium  0.003057\n",
       "8               Portugal  0.002444\n",
       "9              Australia  0.001964\n",
       "10       Channel Islands  0.001725\n",
       "11                Sweden  0.001399\n",
       "12                 Italy  0.001386\n",
       "13                Norway  0.001147\n",
       "14                Cyprus  0.001122\n",
       "15               Finland  0.001031\n",
       "16               Austria  0.000912\n",
       "17               Denmark  0.000744\n",
       "18           Unspecified  0.000740\n",
       "19                Greece  0.000664\n",
       "20                 Japan  0.000556\n",
       "21                Poland  0.000555\n",
       "22  United Arab Emirates  0.000529\n",
       "23                   USA  0.000521\n",
       "24                Israel  0.000390\n",
       "25             Hong Kong  0.000379\n",
       "26             Singapore  0.000366\n",
       "27                 Malta  0.000292\n",
       "28                Canada  0.000241\n",
       "29               Iceland  0.000223\n",
       "30                   RSA  0.000179\n",
       "31             Lithuania  0.000163\n",
       "32               Bahrain  0.000133\n",
       "33                Brazil  0.000100\n",
       "34              Thailand  0.000080\n",
       "35                 Korea  0.000067\n",
       "36    European Community  0.000065\n",
       "37               Lebanon  0.000061\n",
       "38           West Indies  0.000057\n",
       "39               Bermuda  0.000036\n",
       "40               Nigeria  0.000034\n",
       "41        Czech Republic  0.000029\n",
       "42          Saudi Arabia  0.000011"
      ]
     },
     "execution_count": 92,
     "metadata": {},
     "output_type": "execute_result"
    }
   ],
   "source": [
    "data.Country.value_counts(normalize=True).reset_index()"
   ]
  },
  {
   "cell_type": "markdown",
   "id": "52eb4edb",
   "metadata": {},
   "source": [
    "- customer ID has lot of none\n",
    "- country has lot of purchase in UK\n",
    "- quantity has negative values"
   ]
  },
  {
   "cell_type": "code",
   "execution_count": 93,
   "id": "2f2b95fc",
   "metadata": {},
   "outputs": [],
   "source": [
    "data = data.dropna()\n",
    "data = data[data['Quantity']>=0]"
   ]
  },
  {
   "cell_type": "code",
   "execution_count": 94,
   "id": "c2631160",
   "metadata": {},
   "outputs": [
    {
     "data": {
      "text/plain": [
       "(715226, 8)"
      ]
     },
     "execution_count": 94,
     "metadata": {},
     "output_type": "execute_result"
    }
   ],
   "source": [
    "data.shape"
   ]
  },
  {
   "cell_type": "code",
   "execution_count": 95,
   "id": "19d1a93f",
   "metadata": {},
   "outputs": [],
   "source": [
    "data['TotalPrice'] = data['Quantity']*data['Price']\n",
    "data['InvoiceDate'] = pd.to_datetime(data['InvoiceDate'])\n",
    "data['monthYear'] = data['InvoiceDate'].dt.year.astype(str) +\"-\"+ data['InvoiceDate'].dt.month.astype(str)"
   ]
  },
  {
   "cell_type": "code",
   "execution_count": 96,
   "id": "e1733760",
   "metadata": {},
   "outputs": [
    {
     "data": {
      "image/png": "[encoded data removed]",
      "text/plain": [
       "<Figure size 1440x360 with 1 Axes>"
      ]
     },
     "metadata": {
      "needs_background": "light"
     },
     "output_type": "display_data"
    }
   ],
   "source": [
    "fig = plt.figure(figsize=(20,5))\n",
    "grouped = data.groupby('monthYear')['TotalPrice'].sum().reset_index()\n",
    "_=plt.plot_date(grouped['monthYear'], grouped['TotalPrice'], linestyle='solid')\n",
    "_=plt.xlabel(\"Invoice Month-Year\")\n",
    "_=plt.ylabel(\"Total Revenue\")"
   ]
  },
  {
   "cell_type": "code",
   "execution_count": 97,
   "id": "b2b9ace4",
   "metadata": {},
   "outputs": [
    {
     "data": {
      "text/html": [
       "<div>\n",
       "<style scoped>\n",
       "    .dataframe tbody tr th:only-of-type {\n",
       "        vertical-align: middle;\n",
       "    }\n",
       "\n",
       "    .dataframe tbody tr th {\n",
       "        vertical-align: top;\n",
       "    }\n",
       "\n",
       "    .dataframe thead th {\n",
       "        text-align: right;\n",
       "    }\n",
       "</style>\n",
       "<table border=\"1\" class=\"dataframe\">\n",
       "  <thead>\n",
       "    <tr style=\"text-align: right;\">\n",
       "      <th></th>\n",
       "      <th>Country</th>\n",
       "      <th>TotalPrice</th>\n",
       "    </tr>\n",
       "  </thead>\n",
       "  <tbody>\n",
       "    <tr>\n",
       "      <th>38</th>\n",
       "      <td>United Kingdom</td>\n",
       "      <td>1.323429e+07</td>\n",
       "    </tr>\n",
       "    <tr>\n",
       "      <th>10</th>\n",
       "      <td>EIRE</td>\n",
       "      <td>5.833226e+05</td>\n",
       "    </tr>\n",
       "    <tr>\n",
       "      <th>24</th>\n",
       "      <td>Netherlands</td>\n",
       "      <td>5.209230e+05</td>\n",
       "    </tr>\n",
       "    <tr>\n",
       "      <th>14</th>\n",
       "      <td>Germany</td>\n",
       "      <td>3.917900e+05</td>\n",
       "    </tr>\n",
       "    <tr>\n",
       "      <th>13</th>\n",
       "      <td>France</td>\n",
       "      <td>3.168800e+05</td>\n",
       "    </tr>\n",
       "  </tbody>\n",
       "</table>\n",
       "</div>"
      ],
      "text/plain": [
       "           Country    TotalPrice\n",
       "38  United Kingdom  1.323429e+07\n",
       "10            EIRE  5.833226e+05\n",
       "24     Netherlands  5.209230e+05\n",
       "14         Germany  3.917900e+05\n",
       "13          France  3.168800e+05"
      ]
     },
     "execution_count": 97,
     "metadata": {},
     "output_type": "execute_result"
    }
   ],
   "source": [
    "data.groupby('Country')['TotalPrice'].sum().reset_index().sort_values(by=\"TotalPrice\", ascending=False).head()"
   ]
  },
  {
   "cell_type": "code",
   "execution_count": 98,
   "id": "13f75b77",
   "metadata": {},
   "outputs": [
    {
     "data": {
      "text/plain": [
       "(Timestamp('2009-12-01 07:45:00'), Timestamp('2011-11-09 12:49:00'))"
      ]
     },
     "execution_count": 98,
     "metadata": {},
     "output_type": "execute_result"
    }
   ],
   "source": [
    "data.InvoiceDate.min(),data.InvoiceDate.max()"
   ]
  },
  {
   "cell_type": "code",
   "execution_count": 99,
   "id": "2f222e87",
   "metadata": {},
   "outputs": [],
   "source": [
    "train_part1_split = data[data['InvoiceDate'] < pd.to_datetime(\"2011-09-10\")]\n",
    "train_part2_split = data[(data['InvoiceDate'] >= pd.to_datetime(\"2011-09-10\")) &\n",
    "                         (data['InvoiceDate'] < pd.to_datetime(\"2011-10-10\"))]\n",
    "\n",
    "\n",
    "test_part1_split = data[data['InvoiceDate'] < pd.to_datetime(\"2011-10-10\")]\n",
    "test_part2_split = data[(data['InvoiceDate'] >= pd.to_datetime(\"2011-10-10\")) &\n",
    "                         (data['InvoiceDate'] < pd.to_datetime(\"2011-11-10\"))]"
   ]
  },
  {
   "cell_type": "code",
   "execution_count": 165,
   "id": "921c1f70",
   "metadata": {},
   "outputs": [],
   "source": [
    "def transform_data(df1, df2, nQuantiles=3):\n",
    "    result = df1.groupby(\"Customer ID\").agg({'InvoiceDate': 'max', 'Invoice':'count', 'TotalPrice': 'sum'})\\\n",
    "                    .reset_index()\\\n",
    "                    .rename(columns={\"InvoiceDate\": \"LastPurchaseDate\",\n",
    "                                     \"Invoice\": \"Frequency\",\n",
    "                                     \"TotalPrice\": \"Monetary\"\n",
    "                                    })\n",
    "    _next_ = df2.groupby(\"Customer ID\")[\"InvoiceDate\"].min()\\\n",
    "                    .reset_index()\\\n",
    "                    .rename(columns={\"InvoiceDate\": \"NextPurchaseDate\"})\n",
    "    result = result.merge(_next_, \"left\", \"Customer ID\")\n",
    "    result['NextPurchaseDiff'] = (result['NextPurchaseDate'] - result['LastPurchaseDate']).dt.days\n",
    "    result['Recency'] = (result['LastPurchaseDate'].max() - result['LastPurchaseDate']).dt.days\n",
    "    result['NextPurchaseDiff'] = result['NextPurchaseDiff'].fillna(99999)\n",
    "    result['RecencySegment'] = pd.qcut(result['Recency'].values, nQuantiles).codes + 1\n",
    "    result['FrequencySegment'] = pd.qcut(result['Frequency'].values, nQuantiles).codes + 1\n",
    "    result['MonetarySegment'] = pd.qcut(result['Monetary'].values, nQuantiles).codes + 1\n",
    "    result['RFMScore'] = result['RecencySegment'] + result['FrequencySegment'] +\\\n",
    "                         result['MonetarySegment']\n",
    "    result['RFMScoreGroup'] = result['RecencySegment'].apply(str) + result['FrequencySegment'].apply(str) +\\\n",
    "                         result['MonetarySegment'].apply(str)\n",
    "    result['Segment'] = result['RFMScore'].apply(lambda x : \"Low-Value\" if x<=4 else (\"Mid-Value\" if x<=7 else \"High-Value\") )\n",
    "    \n",
    "    return result"
   ]
  },
  {
   "cell_type": "code",
   "execution_count": 168,
   "id": "e9f5351f",
   "metadata": {},
   "outputs": [],
   "source": [
    "customers_train = transform_data(train_part1_split, train_part2_split)\n",
    "customers_test = transform_data(test_part1_split, test_part2_split)"
   ]
  },
  {
   "cell_type": "code",
   "execution_count": 173,
   "id": "72817120",
   "metadata": {},
   "outputs": [
    {
     "data": {
      "text/html": [
       "<div>\n",
       "<style scoped>\n",
       "    .dataframe tbody tr th:only-of-type {\n",
       "        vertical-align: middle;\n",
       "    }\n",
       "\n",
       "    .dataframe tbody tr th {\n",
       "        vertical-align: top;\n",
       "    }\n",
       "\n",
       "    .dataframe thead th {\n",
       "        text-align: right;\n",
       "    }\n",
       "</style>\n",
       "<table border=\"1\" class=\"dataframe\">\n",
       "  <thead>\n",
       "    <tr style=\"text-align: right;\">\n",
       "      <th></th>\n",
       "      <th>Customer ID</th>\n",
       "      <th>LastPurchaseDate</th>\n",
       "      <th>Frequency</th>\n",
       "      <th>Monetary</th>\n",
       "      <th>NextPurchaseDate</th>\n",
       "      <th>NextPurchaseDiff</th>\n",
       "      <th>Recency</th>\n",
       "      <th>RecencySegment</th>\n",
       "      <th>FrequencySegment</th>\n",
       "      <th>MonetarySegment</th>\n",
       "      <th>RFMScore</th>\n",
       "      <th>RFMScoreGroup</th>\n",
       "      <th>Segment</th>\n",
       "    </tr>\n",
       "  </thead>\n",
       "  <tbody>\n",
       "    <tr>\n",
       "      <th>0</th>\n",
       "      <td>12346.0</td>\n",
       "      <td>2011-01-18 10:01:00</td>\n",
       "      <td>34</td>\n",
       "      <td>77556.46</td>\n",
       "      <td>NaT</td>\n",
       "      <td>99999.0</td>\n",
       "      <td>234</td>\n",
       "      <td>2</td>\n",
       "      <td>2</td>\n",
       "      <td>3</td>\n",
       "      <td>7</td>\n",
       "      <td>223</td>\n",
       "      <td>Mid-Value</td>\n",
       "    </tr>\n",
       "    <tr>\n",
       "      <th>1</th>\n",
       "      <td>12347.0</td>\n",
       "      <td>2011-08-02 08:48:00</td>\n",
       "      <td>164</td>\n",
       "      <td>3402.39</td>\n",
       "      <td>NaT</td>\n",
       "      <td>99999.0</td>\n",
       "      <td>38</td>\n",
       "      <td>1</td>\n",
       "      <td>3</td>\n",
       "      <td>3</td>\n",
       "      <td>7</td>\n",
       "      <td>133</td>\n",
       "      <td>Mid-Value</td>\n",
       "    </tr>\n",
       "    <tr>\n",
       "      <th>2</th>\n",
       "      <td>12348.0</td>\n",
       "      <td>2011-04-05 10:47:00</td>\n",
       "      <td>48</td>\n",
       "      <td>1709.40</td>\n",
       "      <td>2011-09-25 13:13:00</td>\n",
       "      <td>173.0</td>\n",
       "      <td>157</td>\n",
       "      <td>2</td>\n",
       "      <td>2</td>\n",
       "      <td>3</td>\n",
       "      <td>7</td>\n",
       "      <td>223</td>\n",
       "      <td>Mid-Value</td>\n",
       "    </tr>\n",
       "    <tr>\n",
       "      <th>3</th>\n",
       "      <td>12349.0</td>\n",
       "      <td>2010-10-28 08:23:00</td>\n",
       "      <td>102</td>\n",
       "      <td>2671.14</td>\n",
       "      <td>NaT</td>\n",
       "      <td>99999.0</td>\n",
       "      <td>316</td>\n",
       "      <td>3</td>\n",
       "      <td>3</td>\n",
       "      <td>3</td>\n",
       "      <td>9</td>\n",
       "      <td>333</td>\n",
       "      <td>High-Value</td>\n",
       "    </tr>\n",
       "    <tr>\n",
       "      <th>4</th>\n",
       "      <td>12350.0</td>\n",
       "      <td>2011-02-02 16:01:00</td>\n",
       "      <td>17</td>\n",
       "      <td>334.40</td>\n",
       "      <td>NaT</td>\n",
       "      <td>99999.0</td>\n",
       "      <td>218</td>\n",
       "      <td>2</td>\n",
       "      <td>1</td>\n",
       "      <td>1</td>\n",
       "      <td>4</td>\n",
       "      <td>211</td>\n",
       "      <td>Low-Value</td>\n",
       "    </tr>\n",
       "  </tbody>\n",
       "</table>\n",
       "</div>"
      ],
      "text/plain": [
       "   Customer ID    LastPurchaseDate  Frequency  Monetary    NextPurchaseDate  \\\n",
       "0      12346.0 2011-01-18 10:01:00         34  77556.46                 NaT   \n",
       "1      12347.0 2011-08-02 08:48:00        164   3402.39                 NaT   \n",
       "2      12348.0 2011-04-05 10:47:00         48   1709.40 2011-09-25 13:13:00   \n",
       "3      12349.0 2010-10-28 08:23:00        102   2671.14                 NaT   \n",
       "4      12350.0 2011-02-02 16:01:00         17    334.40                 NaT   \n",
       "\n",
       "   NextPurchaseDiff  Recency  RecencySegment  FrequencySegment  \\\n",
       "0           99999.0      234               2                 2   \n",
       "1           99999.0       38               1                 3   \n",
       "2             173.0      157               2                 2   \n",
       "3           99999.0      316               3                 3   \n",
       "4           99999.0      218               2                 1   \n",
       "\n",
       "   MonetarySegment  RFMScore RFMScoreGroup     Segment  \n",
       "0                3         7           223   Mid-Value  \n",
       "1                3         7           133   Mid-Value  \n",
       "2                3         7           223   Mid-Value  \n",
       "3                3         9           333  High-Value  \n",
       "4                1         4           211   Low-Value  "
      ]
     },
     "execution_count": 173,
     "metadata": {},
     "output_type": "execute_result"
    }
   ],
   "source": [
    "customers_train.head()"
   ]
  },
  {
   "cell_type": "code",
   "execution_count": 156,
   "id": "465f7793",
   "metadata": {},
   "outputs": [
    {
     "data": {
      "text/plain": [
       "<AxesSubplot: >"
      ]
     },
     "execution_count": 156,
     "metadata": {},
     "output_type": "execute_result"
    },
    {
     "data": {
      "image/png": "[encoded data removed]",
      "text/plain": [
       "<Figure size 1080x360 with 1 Axes>"
      ]
     },
     "metadata": {
      "needs_background": "light"
     },
     "output_type": "display_data"
    }
   ],
   "source": [
    "fig, ax = plt.subplots(figsize=(15,5))\n",
    "customers_train.sort_values(by='RFMScoreGroup')['RFMScoreGroup'].hist(ax=ax)"
   ]
  },
  {
   "cell_type": "markdown",
   "id": "1f8d1a17",
   "metadata": {},
   "source": [
    "- Based on above plots we can divide the customers using RFMScore into low-value(3-4), mid-value(5-7) and high-value (8-9)"
   ]
  },
  {
   "cell_type": "code",
   "execution_count": 172,
   "id": "6ba1885f",
   "metadata": {},
   "outputs": [
    {
     "data": {
      "text/html": [
       "<div>\n",
       "<style scoped>\n",
       "    .dataframe tbody tr th:only-of-type {\n",
       "        vertical-align: middle;\n",
       "    }\n",
       "\n",
       "    .dataframe tbody tr th {\n",
       "        vertical-align: top;\n",
       "    }\n",
       "\n",
       "    .dataframe thead th {\n",
       "        text-align: right;\n",
       "    }\n",
       "</style>\n",
       "<table border=\"1\" class=\"dataframe\">\n",
       "  <thead>\n",
       "    <tr style=\"text-align: right;\">\n",
       "      <th></th>\n",
       "      <th>RFMScore</th>\n",
       "    </tr>\n",
       "    <tr>\n",
       "      <th>Segment</th>\n",
       "      <th></th>\n",
       "    </tr>\n",
       "  </thead>\n",
       "  <tbody>\n",
       "    <tr>\n",
       "      <th>High-Value</th>\n",
       "      <td>[8, 9]</td>\n",
       "    </tr>\n",
       "    <tr>\n",
       "      <th>Low-Value</th>\n",
       "      <td>[3, 4]</td>\n",
       "    </tr>\n",
       "    <tr>\n",
       "      <th>Mid-Value</th>\n",
       "      <td>[5, 6, 7]</td>\n",
       "    </tr>\n",
       "  </tbody>\n",
       "</table>\n",
       "</div>"
      ],
      "text/plain": [
       "             RFMScore\n",
       "Segment              \n",
       "High-Value     [8, 9]\n",
       "Low-Value      [3, 4]\n",
       "Mid-Value   [5, 6, 7]"
      ]
     },
     "execution_count": 172,
     "metadata": {},
     "output_type": "execute_result"
    }
   ],
   "source": [
    "customers_train.groupby(\"Segment\").agg({\"RFMScore\":lambda x: list(np.unique(x))})"
   ]
  },
  {
   "cell_type": "code",
   "execution_count": 178,
   "id": "347b880c",
   "metadata": {},
   "outputs": [
    {
     "data": {
      "text/plain": [
       "<AxesSubplot: >"
      ]
     },
     "execution_count": 178,
     "metadata": {},
     "output_type": "execute_result"
    },
    {
     "data": {
      "image/png": "[encoded data removed]",
      "text/plain": [
       "<Figure size 432x288 with 1 Axes>"
      ]
     },
     "metadata": {
      "needs_background": "light"
     },
     "output_type": "display_data"
    }
   ],
   "source": [
    "customers_train['RFMScore'].hist()"
   ]
  },
  {
   "cell_type": "code",
   "execution_count": 176,
   "id": "81a6b46d",
   "metadata": {},
   "outputs": [],
   "source": [
    "customers_train = pd.get_dummies(customers_train)\n",
    "customers_test = pd.get_dummies(customers_test)"
   ]
  },
  {
   "cell_type": "code",
   "execution_count": 177,
   "id": "361ecc01",
   "metadata": {},
   "outputs": [
    {
     "data": {
      "text/plain": [
       "True"
      ]
     },
     "execution_count": 177,
     "metadata": {},
     "output_type": "execute_result"
    }
   ],
   "source": [
    "all([i==j for i,j in zip(customers_train.columns, customers_test.columns)])"
   ]
  },
  {
   "cell_type": "code",
   "execution_count": 158,
   "id": "b75a67e5",
   "metadata": {},
   "outputs": [
    {
     "data": {
      "text/plain": [
       "[3, 4, 5, 6, 7, 8, 9]"
      ]
     },
     "execution_count": 158,
     "metadata": {},
     "output_type": "execute_result"
    }
   ],
   "source": [
    "sorted(customers_train['RFMScore'].unique())"
   ]
  },
  {
   "cell_type": "code",
   "execution_count": 179,
   "id": "9976af20",
   "metadata": {},
   "outputs": [
    {
     "data": {
      "text/plain": [
       "Index(['Customer ID', 'LastPurchaseDate', 'Frequency', 'Monetary',\n",
       "       'NextPurchaseDate', 'NextPurchaseDiff', 'Recency', 'RecencySegment',\n",
       "       'FrequencySegment', 'MonetarySegment', 'RFMScore', 'RFMScoreGroup_111',\n",
       "       'RFMScoreGroup_112', 'RFMScoreGroup_113', 'RFMScoreGroup_121',\n",
       "       'RFMScoreGroup_122', 'RFMScoreGroup_123', 'RFMScoreGroup_131',\n",
       "       'RFMScoreGroup_132', 'RFMScoreGroup_133', 'RFMScoreGroup_211',\n",
       "       'RFMScoreGroup_212', 'RFMScoreGroup_213', 'RFMScoreGroup_221',\n",
       "       'RFMScoreGroup_222', 'RFMScoreGroup_223', 'RFMScoreGroup_231',\n",
       "       'RFMScoreGroup_232', 'RFMScoreGroup_233', 'RFMScoreGroup_311',\n",
       "       'RFMScoreGroup_312', 'RFMScoreGroup_313', 'RFMScoreGroup_321',\n",
       "       'RFMScoreGroup_322', 'RFMScoreGroup_323', 'RFMScoreGroup_331',\n",
       "       'RFMScoreGroup_332', 'RFMScoreGroup_333', 'Segment_High-Value',\n",
       "       'Segment_Low-Value', 'Segment_Mid-Value'],\n",
       "      dtype='object')"
      ]
     },
     "execution_count": 179,
     "metadata": {},
     "output_type": "execute_result"
    }
   ],
   "source": [
    "customers_train.columns"
   ]
  },
  {
   "cell_type": "code",
   "execution_count": 181,
   "id": "cccc8a9b",
   "metadata": {},
   "outputs": [],
   "source": [
    "preds = [\n",
    "           'Frequency', 'Monetary', 'Recency', 'RecencySegment',\n",
    "           'FrequencySegment', 'MonetarySegment', 'RFMScore', 'Segment_High-Value',\n",
    "           'Segment_Low-Value', 'Segment_Mid-Value'\n",
    "        ]"
   ]
  },
  {
   "cell_type": "code",
   "execution_count": 186,
   "id": "1b0b1a1d",
   "metadata": {},
   "outputs": [],
   "source": [
    "customers_train['label'] = customers_train['NextPurchaseDiff']<30\n",
    "customers_test['label'] = customers_test['NextPurchaseDiff']<30"
   ]
  },
  {
   "cell_type": "code",
   "execution_count": 187,
   "id": "f9a7638c",
   "metadata": {},
   "outputs": [
    {
     "ename": "NameError",
     "evalue": "name 'LogisticRegression' is not defined",
     "output_type": "error",
     "traceback": [
      "\u001b[0;31m---------------------------------------------------------------------------\u001b[0m",
      "\u001b[0;31mNameError\u001b[0m                                 Traceback (most recent call last)",
      "\u001b[0;32m<ipython-input-187-8765e3d31bd5>\u001b[0m in \u001b[0;36m<module>\u001b[0;34m\u001b[0m\n\u001b[1;32m      1\u001b[0m \u001b[0mmodels\u001b[0m \u001b[0;34m=\u001b[0m \u001b[0;34m[\u001b[0m\u001b[0;34m]\u001b[0m\u001b[0;34m\u001b[0m\u001b[0;34m\u001b[0m\u001b[0m\n\u001b[0;32m----> 2\u001b[0;31m \u001b[0mmodels\u001b[0m\u001b[0;34m.\u001b[0m\u001b[0mappend\u001b[0m\u001b[0;34m(\u001b[0m\u001b[0;34m(\u001b[0m\u001b[0;34m\"LogisticRegression\"\u001b[0m\u001b[0;34m,\u001b[0m \u001b[0mLogisticRegression\u001b[0m\u001b[0;34m(\u001b[0m\u001b[0;34m)\u001b[0m\u001b[0;34m)\u001b[0m\u001b[0;34m)\u001b[0m\u001b[0;34m\u001b[0m\u001b[0;34m\u001b[0m\u001b[0m\n\u001b[0m\u001b[1;32m      3\u001b[0m \u001b[0mmodels\u001b[0m\u001b[0;34m.\u001b[0m\u001b[0mappend\u001b[0m\u001b[0;34m(\u001b[0m\u001b[0;34m(\u001b[0m\u001b[0;34m\"GaussianNB\"\u001b[0m\u001b[0;34m,\u001b[0m \u001b[0mGaussianNB\u001b[0m\u001b[0;34m(\u001b[0m\u001b[0;34m)\u001b[0m\u001b[0;34m)\u001b[0m\u001b[0;34m)\u001b[0m\u001b[0;34m\u001b[0m\u001b[0;34m\u001b[0m\u001b[0m\n\u001b[1;32m      4\u001b[0m \u001b[0mmodels\u001b[0m\u001b[0;34m.\u001b[0m\u001b[0mappend\u001b[0m\u001b[0;34m(\u001b[0m\u001b[0;34m(\u001b[0m\u001b[0;34m\"RandomForestClassifier\"\u001b[0m\u001b[0;34m,\u001b[0m \u001b[0mRandomForestClassifier\u001b[0m\u001b[0;34m(\u001b[0m\u001b[0;34m)\u001b[0m\u001b[0;34m)\u001b[0m\u001b[0;34m)\u001b[0m\u001b[0;34m\u001b[0m\u001b[0;34m\u001b[0m\u001b[0m\n\u001b[1;32m      5\u001b[0m \u001b[0mmodels\u001b[0m\u001b[0;34m.\u001b[0m\u001b[0mappend\u001b[0m\u001b[0;34m(\u001b[0m\u001b[0;34m(\u001b[0m\u001b[0;34m\"xgb.XGBClassifier\"\u001b[0m\u001b[0;34m,\u001b[0m \u001b[0mxgb\u001b[0m\u001b[0;34m.\u001b[0m\u001b[0mXGBClassifier\u001b[0m\u001b[0;34m(\u001b[0m\u001b[0meval_metric\u001b[0m\u001b[0;34m=\u001b[0m\u001b[0;34m'mlogloss'\u001b[0m\u001b[0;34m)\u001b[0m\u001b[0;34m)\u001b[0m\u001b[0;34m)\u001b[0m\u001b[0;34m\u001b[0m\u001b[0;34m\u001b[0m\u001b[0m\n",
      "\u001b[0;31mNameError\u001b[0m: name 'LogisticRegression' is not defined"
     ]
    }
   ],
   "source": [
    "models = []\n",
    "models.append((\"LogisticRegression\", LogisticRegression()))\n",
    "models.append((\"GaussianNB\", GaussianNB()))\n",
    "models.append((\"RandomForestClassifier\", RandomForestClassifier()))\n",
    "models.append((\"xgb.XGBClassifier\", xgb.XGBClassifier(eval_metric='mlogloss')))"
   ]
  },
  {
   "cell_type": "code",
   "execution_count": null,
   "id": "bea9138c",
   "metadata": {},
   "outputs": [],
   "source": []
  }
 ],
 "metadata": {
  "kernelspec": {
   "display_name": "Python 3",
   "language": "python",
   "name": "python3"
  },
  "language_info": {
   "codemirror_mode": {
    "name": "ipython",
    "version": 3
   },
   "file_extension": ".py",
   "mimetype": "text/x-python",
   "name": "python",
   "nbconvert_exporter": "python",
   "pygments_lexer": "ipython3",
   "version": "3.10.9"
  }
 },
 "nbformat": 4,
 "nbformat_minor": 5
}
